{
 "cells": [
  {
   "cell_type": "markdown",
   "id": "74eed374",
   "metadata": {
    "papermill": {
     "duration": 0.004486,
     "end_time": "2022-09-01T22:00:55.018883",
     "exception": false,
     "start_time": "2022-09-01T22:00:55.014397",
     "status": "completed"
    },
    "tags": []
   },
   "source": [
    "**Классификатор товаров**"
   ]
  },
  {
   "cell_type": "markdown",
   "id": "451a1a41",
   "metadata": {
    "papermill": {
     "duration": 0.003106,
     "end_time": "2022-09-01T22:00:55.025623",
     "exception": false,
     "start_time": "2022-09-01T22:00:55.022517",
     "status": "completed"
    },
    "tags": []
   },
   "source": [
    "Для агрегатора магазинов одежды нужно сделать классификатор одежды на 10 классов"
   ]
  },
  {
   "cell_type": "code",
   "execution_count": 1,
   "id": "2acc87a2",
   "metadata": {
    "execution": {
     "iopub.execute_input": "2022-09-01T22:00:55.034453Z",
     "iopub.status.busy": "2022-09-01T22:00:55.033632Z",
     "iopub.status.idle": "2022-09-01T22:01:01.521470Z",
     "shell.execute_reply": "2022-09-01T22:01:01.520191Z"
    },
    "papermill": {
     "duration": 6.495682,
     "end_time": "2022-09-01T22:01:01.524627",
     "exception": false,
     "start_time": "2022-09-01T22:00:55.028945",
     "status": "completed"
    },
    "tags": []
   },
   "outputs": [],
   "source": [
    "from tensorflow.keras.datasets import fashion_mnist\n",
    "from tensorflow.keras.models import Sequential\n",
    "from tensorflow.keras.layers import Dense, Conv2D, AvgPool2D, Flatten\n",
    "from tensorflow.keras.optimizers import Adam\n",
    "import numpy as np\n",
    "import pandas as pd"
   ]
  },
  {
   "cell_type": "code",
   "execution_count": 2,
   "id": "7d0ea818",
   "metadata": {
    "execution": {
     "iopub.execute_input": "2022-09-01T22:01:01.533878Z",
     "iopub.status.busy": "2022-09-01T22:01:01.533188Z",
     "iopub.status.idle": "2022-09-01T22:01:01.544992Z",
     "shell.execute_reply": "2022-09-01T22:01:01.543776Z"
    },
    "papermill": {
     "duration": 0.019441,
     "end_time": "2022-09-01T22:01:01.547955",
     "exception": false,
     "start_time": "2022-09-01T22:01:01.528514",
     "status": "completed"
    },
    "tags": []
   },
   "outputs": [
    {
     "name": "stdout",
     "output_type": "stream",
     "text": [
      "/kaggle/input/fashion-mnist-df/fashion-mnist_test.csv\n",
      "/kaggle/input/fashion-mnist-df/fashion-mnist_train.csv\n"
     ]
    }
   ],
   "source": [
    "import os\n",
    "for dirname, _, filenames in os.walk('/kaggle/input'):\n",
    "    for filename in filenames:\n",
    "        print(os.path.join(dirname, filename))"
   ]
  },
  {
   "cell_type": "code",
   "execution_count": 3,
   "id": "d1d082d3",
   "metadata": {
    "execution": {
     "iopub.execute_input": "2022-09-01T22:01:01.557709Z",
     "iopub.status.busy": "2022-09-01T22:01:01.556872Z",
     "iopub.status.idle": "2022-09-01T22:01:07.274153Z",
     "shell.execute_reply": "2022-09-01T22:01:07.272877Z"
    },
    "papermill": {
     "duration": 5.725312,
     "end_time": "2022-09-01T22:01:07.277519",
     "exception": false,
     "start_time": "2022-09-01T22:01:01.552207",
     "status": "completed"
    },
    "tags": []
   },
   "outputs": [
    {
     "name": "stdout",
     "output_type": "stream",
     "text": [
      "features_train.head: (60000, 784)\n",
      "\n",
      "target_train.head (60000,)\n"
     ]
    }
   ],
   "source": [
    "df_train = pd.read_csv(\"/kaggle/input/fashion-mnist-df/fashion-mnist_train.csv\")\n",
    "\n",
    "features_train = np.array(df_train.drop(columns=['label'], axis=1))\n",
    "target_train = np.array(df_train['label'])\n",
    "print('features_train.head:', features_train.shape)\n",
    "print()\n",
    "print('target_train.head', target_train.shape)"
   ]
  },
  {
   "cell_type": "code",
   "execution_count": 4,
   "id": "7684609f",
   "metadata": {
    "execution": {
     "iopub.execute_input": "2022-09-01T22:01:07.286957Z",
     "iopub.status.busy": "2022-09-01T22:01:07.286296Z",
     "iopub.status.idle": "2022-09-01T22:01:08.119502Z",
     "shell.execute_reply": "2022-09-01T22:01:08.118080Z"
    },
    "papermill": {
     "duration": 0.840715,
     "end_time": "2022-09-01T22:01:08.122155",
     "exception": false,
     "start_time": "2022-09-01T22:01:07.281440",
     "status": "completed"
    },
    "tags": []
   },
   "outputs": [
    {
     "name": "stdout",
     "output_type": "stream",
     "text": [
      "features_test.head: (10000, 784)\n",
      "\n",
      "target_test.head (10000,)\n"
     ]
    }
   ],
   "source": [
    "df_test = pd.read_csv(\"/kaggle/input/fashion-mnist-df/fashion-mnist_test.csv\")\n",
    "\n",
    "features_test = np.array(df_test.drop(columns=['label'], axis=1))\n",
    "target_test = np.array(df_test['label'])\n",
    "print('features_test.head:', features_test.shape)\n",
    "print()\n",
    "print('target_test.head', target_test.shape)"
   ]
  },
  {
   "cell_type": "code",
   "execution_count": 5,
   "id": "f0f5e2ee",
   "metadata": {
    "execution": {
     "iopub.execute_input": "2022-09-01T22:01:08.131425Z",
     "iopub.status.busy": "2022-09-01T22:01:08.131028Z",
     "iopub.status.idle": "2022-09-01T22:01:08.136211Z",
     "shell.execute_reply": "2022-09-01T22:01:08.134978Z"
    },
    "papermill": {
     "duration": 0.012586,
     "end_time": "2022-09-01T22:01:08.138489",
     "exception": false,
     "start_time": "2022-09-01T22:01:08.125903",
     "status": "completed"
    },
    "tags": []
   },
   "outputs": [],
   "source": [
    "def load_train():\n",
    "    features = features_train.reshape(-1, 28, 28, 1) / 255\n",
    "    return features, target_train"
   ]
  },
  {
   "cell_type": "code",
   "execution_count": 6,
   "id": "589418dc",
   "metadata": {
    "execution": {
     "iopub.execute_input": "2022-09-01T22:01:08.147472Z",
     "iopub.status.busy": "2022-09-01T22:01:08.147112Z",
     "iopub.status.idle": "2022-09-01T22:01:08.152005Z",
     "shell.execute_reply": "2022-09-01T22:01:08.150974Z"
    },
    "papermill": {
     "duration": 0.012108,
     "end_time": "2022-09-01T22:01:08.154334",
     "exception": false,
     "start_time": "2022-09-01T22:01:08.142226",
     "status": "completed"
    },
    "tags": []
   },
   "outputs": [],
   "source": [
    "def load_test():\n",
    "    features = features_test.reshape(-1, 28, 28, 1) / 255\n",
    "    return features, target_test"
   ]
  },
  {
   "cell_type": "code",
   "execution_count": 7,
   "id": "5ca72349",
   "metadata": {
    "execution": {
     "iopub.execute_input": "2022-09-01T22:01:08.163089Z",
     "iopub.status.busy": "2022-09-01T22:01:08.162694Z",
     "iopub.status.idle": "2022-09-01T22:01:08.171015Z",
     "shell.execute_reply": "2022-09-01T22:01:08.169710Z"
    },
    "papermill": {
     "duration": 0.015387,
     "end_time": "2022-09-01T22:01:08.173320",
     "exception": false,
     "start_time": "2022-09-01T22:01:08.157933",
     "status": "completed"
    },
    "tags": []
   },
   "outputs": [],
   "source": [
    "def create_model(input_shape):\n",
    "    model = Sequential()\n",
    "    model.add(Conv2D(filters=6, kernel_size=(5, 5), input_shape=input_shape, padding='same', activation='relu'))\n",
    "    model.add(AvgPool2D(pool_size=(2, 2)))\n",
    "    model.add(Conv2D(filters=16, kernel_size=(5, 5), activation='relu'))\n",
    "    model.add(AvgPool2D(pool_size=(2, 2)))\n",
    "    model.add(Flatten())\n",
    "    model.add(Dense(units=120, activation='relu'))\n",
    "    model.add(Dense(units=84, activation='relu'))\n",
    "    model.add(Dense(units=10, activation='softmax'))\n",
    "    model.compile(loss='sparse_categorical_crossentropy', optimizer=Adam(lr=0.0001), metrics=['acc'])\n",
    "    return model"
   ]
  },
  {
   "cell_type": "code",
   "execution_count": 8,
   "id": "af8304b9",
   "metadata": {
    "execution": {
     "iopub.execute_input": "2022-09-01T22:01:08.182489Z",
     "iopub.status.busy": "2022-09-01T22:01:08.181926Z",
     "iopub.status.idle": "2022-09-01T22:01:08.187661Z",
     "shell.execute_reply": "2022-09-01T22:01:08.186835Z"
    },
    "papermill": {
     "duration": 0.012632,
     "end_time": "2022-09-01T22:01:08.189722",
     "exception": false,
     "start_time": "2022-09-01T22:01:08.177090",
     "status": "completed"
    },
    "tags": []
   },
   "outputs": [],
   "source": [
    "def train_model(model, train_data, test_data, batch_size=32, epochs=20,\n",
    "               steps_per_epoch=None, validation_steps=None):\n",
    "    features_train, target_train = train_data\n",
    "    features_test, target_test = test_data\n",
    "    model.fit(\n",
    "        features_train, target_train,\n",
    "        validation_data=(features_test, target_test),\n",
    "        batch_size=batch_size,\n",
    "        epochs=epochs,\n",
    "        steps_per_epoch=steps_per_epoch,\n",
    "        validation_steps=validation_steps,\n",
    "        verbose=2,\n",
    "        shuffle=True\n",
    "    )\n",
    "    return model"
   ]
  },
  {
   "cell_type": "code",
   "execution_count": 9,
   "id": "6405436b",
   "metadata": {
    "execution": {
     "iopub.execute_input": "2022-09-01T22:01:08.198547Z",
     "iopub.status.busy": "2022-09-01T22:01:08.197907Z",
     "iopub.status.idle": "2022-09-01T22:04:45.254484Z",
     "shell.execute_reply": "2022-09-01T22:04:45.253313Z"
    },
    "papermill": {
     "duration": 217.063748,
     "end_time": "2022-09-01T22:04:45.256955",
     "exception": false,
     "start_time": "2022-09-01T22:01:08.193207",
     "status": "completed"
    },
    "tags": []
   },
   "outputs": [
    {
     "name": "stderr",
     "output_type": "stream",
     "text": [
      "2022-09-01 22:01:08.407866: I tensorflow/core/common_runtime/process_util.cc:146] Creating new thread pool with default inter op setting: 2. Tune using inter_op_parallelism_threads for best performance.\n",
      "/opt/conda/lib/python3.7/site-packages/keras/optimizer_v2/optimizer_v2.py:356: UserWarning: The `lr` argument is deprecated, use `learning_rate` instead.\n",
      "  \"The `lr` argument is deprecated, use `learning_rate` instead.\")\n",
      "2022-09-01 22:01:09.080765: I tensorflow/compiler/mlir/mlir_graph_optimization_pass.cc:185] None of the MLIR Optimization Passes are enabled (registered 2)\n"
     ]
    },
    {
     "name": "stdout",
     "output_type": "stream",
     "text": [
      "Epoch 1/20\n",
      "1875/1875 - 11s - loss: 0.8272 - acc: 0.7064 - val_loss: 0.6337 - val_acc: 0.7555\n",
      "Epoch 2/20\n",
      "1875/1875 - 11s - loss: 0.5830 - acc: 0.7836 - val_loss: 0.5404 - val_acc: 0.8104\n",
      "Epoch 3/20\n",
      "1875/1875 - 12s - loss: 0.5191 - acc: 0.8120 - val_loss: 0.5129 - val_acc: 0.8044\n",
      "Epoch 4/20\n",
      "1875/1875 - 11s - loss: 0.4807 - acc: 0.8272 - val_loss: 0.4695 - val_acc: 0.8383\n",
      "Epoch 5/20\n",
      "1875/1875 - 11s - loss: 0.4547 - acc: 0.8375 - val_loss: 0.4493 - val_acc: 0.8390\n",
      "Epoch 6/20\n",
      "1875/1875 - 11s - loss: 0.4351 - acc: 0.8442 - val_loss: 0.4200 - val_acc: 0.8527\n",
      "Epoch 7/20\n",
      "1875/1875 - 10s - loss: 0.4198 - acc: 0.8507 - val_loss: 0.4095 - val_acc: 0.8524\n",
      "Epoch 8/20\n",
      "1875/1875 - 10s - loss: 0.4090 - acc: 0.8527 - val_loss: 0.3934 - val_acc: 0.8597\n",
      "Epoch 9/20\n",
      "1875/1875 - 11s - loss: 0.3978 - acc: 0.8583 - val_loss: 0.3856 - val_acc: 0.8646\n",
      "Epoch 10/20\n",
      "1875/1875 - 10s - loss: 0.3885 - acc: 0.8611 - val_loss: 0.3817 - val_acc: 0.8659\n",
      "Epoch 11/20\n",
      "1875/1875 - 10s - loss: 0.3787 - acc: 0.8647 - val_loss: 0.3823 - val_acc: 0.8664\n",
      "Epoch 12/20\n",
      "1875/1875 - 11s - loss: 0.3706 - acc: 0.8671 - val_loss: 0.3767 - val_acc: 0.8628\n",
      "Epoch 13/20\n",
      "1875/1875 - 11s - loss: 0.3625 - acc: 0.8698 - val_loss: 0.3645 - val_acc: 0.8706\n",
      "Epoch 14/20\n",
      "1875/1875 - 10s - loss: 0.3558 - acc: 0.8731 - val_loss: 0.3534 - val_acc: 0.8740\n",
      "Epoch 15/20\n",
      "1875/1875 - 11s - loss: 0.3494 - acc: 0.8738 - val_loss: 0.3473 - val_acc: 0.8760\n",
      "Epoch 16/20\n",
      "1875/1875 - 10s - loss: 0.3438 - acc: 0.8759 - val_loss: 0.3469 - val_acc: 0.8770\n",
      "Epoch 17/20\n",
      "1875/1875 - 10s - loss: 0.3383 - acc: 0.8785 - val_loss: 0.3454 - val_acc: 0.8782\n",
      "Epoch 18/20\n",
      "1875/1875 - 11s - loss: 0.3330 - acc: 0.8806 - val_loss: 0.3556 - val_acc: 0.8710\n",
      "Epoch 19/20\n",
      "1875/1875 - 10s - loss: 0.3282 - acc: 0.8811 - val_loss: 0.3479 - val_acc: 0.8775\n",
      "Epoch 20/20\n",
      "1875/1875 - 11s - loss: 0.3242 - acc: 0.8829 - val_loss: 0.3362 - val_acc: 0.8788\n",
      "313/313 - 1s - loss: 0.3362 - acc: 0.8788\n",
      "\n",
      "Model accuracy: 87.88%\n"
     ]
    }
   ],
   "source": [
    "if __name__ == '__main__':\n",
    "    train_data = load_train()\n",
    "    test_data = load_test()\n",
    "    model = create_model(train_data[0].shape[1:])\n",
    "    model = train_model(model, train_data, test_data)\n",
    "    loss, acc = model.evaluate(test_data[0], test_data[1], verbose=2)\n",
    "    print()\n",
    "    print('Model accuracy: {:5.2f}%'.format(100 * acc))"
   ]
  }
 ],
 "metadata": {
  "kernelspec": {
   "display_name": "Python 3",
   "language": "python",
   "name": "python3"
  },
  "language_info": {
   "codemirror_mode": {
    "name": "ipython",
    "version": 3
   },
   "file_extension": ".py",
   "mimetype": "text/x-python",
   "name": "python",
   "nbconvert_exporter": "python",
   "pygments_lexer": "ipython3",
   "version": "3.7.12"
  },
  "papermill": {
   "default_parameters": {},
   "duration": 243.085124,
   "end_time": "2022-09-01T22:04:48.320655",
   "environment_variables": {},
   "exception": null,
   "input_path": "__notebook__.ipynb",
   "output_path": "__notebook__.ipynb",
   "parameters": {},
   "start_time": "2022-09-01T22:00:45.235531",
   "version": "2.3.4"
  }
 },
 "nbformat": 4,
 "nbformat_minor": 5
}
