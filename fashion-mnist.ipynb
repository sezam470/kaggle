{
 "cells": [
  {
   "cell_type": "code",
   "execution_count": 1,
   "id": "0b70ea3f",
   "metadata": {
    "execution": {
     "iopub.execute_input": "2022-08-27T12:23:55.889521Z",
     "iopub.status.busy": "2022-08-27T12:23:55.888811Z",
     "iopub.status.idle": "2022-08-27T12:24:03.342680Z",
     "shell.execute_reply": "2022-08-27T12:24:03.341379Z"
    },
    "papermill": {
     "duration": 7.463827,
     "end_time": "2022-08-27T12:24:03.345733",
     "exception": false,
     "start_time": "2022-08-27T12:23:55.881906",
     "status": "completed"
    },
    "tags": []
   },
   "outputs": [],
   "source": [
    "from tensorflow.keras.datasets import fashion_mnist\n",
    "from tensorflow.keras.models import Sequential\n",
    "from tensorflow.keras.layers import Dense\n",
    "import numpy as np\n",
    "import pandas as pd"
   ]
  },
  {
   "cell_type": "code",
   "execution_count": 2,
   "id": "62a909ce",
   "metadata": {
    "execution": {
     "iopub.execute_input": "2022-08-27T12:24:03.355244Z",
     "iopub.status.busy": "2022-08-27T12:24:03.354159Z",
     "iopub.status.idle": "2022-08-27T12:24:03.366040Z",
     "shell.execute_reply": "2022-08-27T12:24:03.364883Z"
    },
    "papermill": {
     "duration": 0.020728,
     "end_time": "2022-08-27T12:24:03.370088",
     "exception": false,
     "start_time": "2022-08-27T12:24:03.349360",
     "status": "completed"
    },
    "tags": []
   },
   "outputs": [
    {
     "name": "stdout",
     "output_type": "stream",
     "text": [
      "/kaggle/input/fashion-mnist-df/fashion-mnist_test.csv\n",
      "/kaggle/input/fashion-mnist-df/fashion-mnist_train.csv\n"
     ]
    }
   ],
   "source": [
    "import os\n",
    "for dirname, _, filenames in os.walk('/kaggle/input'):\n",
    "    for filename in filenames:\n",
    "        print(os.path.join(dirname, filename))"
   ]
  },
  {
   "cell_type": "code",
   "execution_count": 3,
   "id": "bad95b17",
   "metadata": {
    "execution": {
     "iopub.execute_input": "2022-08-27T12:24:03.380615Z",
     "iopub.status.busy": "2022-08-27T12:24:03.379756Z",
     "iopub.status.idle": "2022-08-27T12:24:10.187860Z",
     "shell.execute_reply": "2022-08-27T12:24:10.186064Z"
    },
    "papermill": {
     "duration": 6.816421,
     "end_time": "2022-08-27T12:24:10.191235",
     "exception": false,
     "start_time": "2022-08-27T12:24:03.374814",
     "status": "completed"
    },
    "tags": []
   },
   "outputs": [
    {
     "name": "stdout",
     "output_type": "stream",
     "text": [
      "features_train.head: (60000, 784)\n",
      "\n",
      "target_train.head (60000,)\n"
     ]
    }
   ],
   "source": [
    "df_train = pd.read_csv(\"/kaggle/input/fashion-mnist-df/fashion-mnist_train.csv\")\n",
    "\n",
    "features_train = np.array(df_train.drop(columns=['label'], axis=1))\n",
    "target_train = np.array(df_train['label'])\n",
    "print('features_train.head:', features_train.shape)\n",
    "print()\n",
    "print('target_train.head', target_train.shape)"
   ]
  },
  {
   "cell_type": "code",
   "execution_count": 4,
   "id": "b4370b2f",
   "metadata": {
    "execution": {
     "iopub.execute_input": "2022-08-27T12:24:10.201205Z",
     "iopub.status.busy": "2022-08-27T12:24:10.200750Z",
     "iopub.status.idle": "2022-08-27T12:24:11.130270Z",
     "shell.execute_reply": "2022-08-27T12:24:11.128822Z"
    },
    "papermill": {
     "duration": 0.938006,
     "end_time": "2022-08-27T12:24:11.133243",
     "exception": false,
     "start_time": "2022-08-27T12:24:10.195237",
     "status": "completed"
    },
    "tags": []
   },
   "outputs": [
    {
     "name": "stdout",
     "output_type": "stream",
     "text": [
      "features_test.head: (10000, 784)\n",
      "\n",
      "target_test.head (10000,)\n"
     ]
    }
   ],
   "source": [
    "df_test = pd.read_csv(\"/kaggle/input/fashion-mnist-df/fashion-mnist_test.csv\")\n",
    "\n",
    "features_test = np.array(df_test.drop(columns=['label'], axis=1))\n",
    "target_test = np.array(df_test['label'])\n",
    "print('features_test.head:', features_test.shape)\n",
    "print()\n",
    "print('target_test.head', target_test.shape)"
   ]
  },
  {
   "cell_type": "code",
   "execution_count": 5,
   "id": "7c2ae237",
   "metadata": {
    "execution": {
     "iopub.execute_input": "2022-08-27T12:24:11.143094Z",
     "iopub.status.busy": "2022-08-27T12:24:11.142014Z",
     "iopub.status.idle": "2022-08-27T12:24:11.148492Z",
     "shell.execute_reply": "2022-08-27T12:24:11.147268Z"
    },
    "papermill": {
     "duration": 0.013886,
     "end_time": "2022-08-27T12:24:11.150944",
     "exception": false,
     "start_time": "2022-08-27T12:24:11.137058",
     "status": "completed"
    },
    "tags": []
   },
   "outputs": [],
   "source": [
    "def load_train():\n",
    "    features = features_train.reshape(features_train.shape[0], 28 * 28) / 255\n",
    "    return features, target_train"
   ]
  },
  {
   "cell_type": "code",
   "execution_count": 6,
   "id": "9dbfcbdd",
   "metadata": {
    "execution": {
     "iopub.execute_input": "2022-08-27T12:24:11.160275Z",
     "iopub.status.busy": "2022-08-27T12:24:11.159419Z",
     "iopub.status.idle": "2022-08-27T12:24:11.166729Z",
     "shell.execute_reply": "2022-08-27T12:24:11.165083Z"
    },
    "papermill": {
     "duration": 0.014936,
     "end_time": "2022-08-27T12:24:11.169467",
     "exception": false,
     "start_time": "2022-08-27T12:24:11.154531",
     "status": "completed"
    },
    "tags": []
   },
   "outputs": [],
   "source": [
    "def load_test():\n",
    "    features = features_test.reshape(features_test.shape[0], 28 * 28) / 255\n",
    "    return features, target_test"
   ]
  },
  {
   "cell_type": "code",
   "execution_count": 7,
   "id": "b05af8d1",
   "metadata": {
    "execution": {
     "iopub.execute_input": "2022-08-27T12:24:11.178872Z",
     "iopub.status.busy": "2022-08-27T12:24:11.178408Z",
     "iopub.status.idle": "2022-08-27T12:24:11.186021Z",
     "shell.execute_reply": "2022-08-27T12:24:11.184879Z"
    },
    "papermill": {
     "duration": 0.015604,
     "end_time": "2022-08-27T12:24:11.188794",
     "exception": false,
     "start_time": "2022-08-27T12:24:11.173190",
     "status": "completed"
    },
    "tags": []
   },
   "outputs": [],
   "source": [
    "def create_model(input_shape):\n",
    "    model = Sequential()\n",
    "    model.add(Dense(units=100, input_shape=input_shape, activation='relu'))\n",
    "    model.add(Dense(units=100, input_shape=input_shape, activation='relu'))\n",
    "    model.add(Dense(units=10, input_shape=input_shape, activation='softmax'))\n",
    "    model.compile(loss='sparse_categorical_crossentropy', optimizer='sgd', metrics=['acc'])\n",
    "    return model"
   ]
  },
  {
   "cell_type": "code",
   "execution_count": 8,
   "id": "b8972b12",
   "metadata": {
    "execution": {
     "iopub.execute_input": "2022-08-27T12:24:11.198215Z",
     "iopub.status.busy": "2022-08-27T12:24:11.197779Z",
     "iopub.status.idle": "2022-08-27T12:24:11.204945Z",
     "shell.execute_reply": "2022-08-27T12:24:11.203455Z"
    },
    "papermill": {
     "duration": 0.015099,
     "end_time": "2022-08-27T12:24:11.207562",
     "exception": false,
     "start_time": "2022-08-27T12:24:11.192463",
     "status": "completed"
    },
    "tags": []
   },
   "outputs": [],
   "source": [
    "def train_model(model, train_data, test_data, batch_size=32, epochs=10,\n",
    "               steps_per_epoch=None, validation_steps=None):\n",
    "    features_train, target_train = train_data\n",
    "    features_test, target_test = test_data\n",
    "    model.fit(\n",
    "        features_train, target_train,\n",
    "        validation_data=(features_test, target_test),\n",
    "        batch_size=batch_size,\n",
    "        epochs=epochs,\n",
    "        steps_per_epoch=steps_per_epoch,\n",
    "        validation_steps=validation_steps,\n",
    "        verbose=2,\n",
    "        shuffle=True\n",
    "    )"
   ]
  },
  {
   "cell_type": "code",
   "execution_count": 9,
   "id": "fb9e3bc1",
   "metadata": {
    "execution": {
     "iopub.execute_input": "2022-08-27T12:24:11.216746Z",
     "iopub.status.busy": "2022-08-27T12:24:11.216270Z",
     "iopub.status.idle": "2022-08-27T12:25:34.846407Z",
     "shell.execute_reply": "2022-08-27T12:25:34.845337Z"
    },
    "papermill": {
     "duration": 83.638473,
     "end_time": "2022-08-27T12:25:34.849716",
     "exception": false,
     "start_time": "2022-08-27T12:24:11.211243",
     "status": "completed"
    },
    "tags": []
   },
   "outputs": [
    {
     "name": "stderr",
     "output_type": "stream",
     "text": [
      "2022-08-27 12:24:11.489457: I tensorflow/core/common_runtime/process_util.cc:146] Creating new thread pool with default inter op setting: 2. Tune using inter_op_parallelism_threads for best performance.\n",
      "2022-08-27 12:24:12.443502: I tensorflow/compiler/mlir/mlir_graph_optimization_pass.cc:185] None of the MLIR Optimization Passes are enabled (registered 2)\n"
     ]
    },
    {
     "name": "stdout",
     "output_type": "stream",
     "text": [
      "Epoch 1/10\n",
      "1875/1875 - 6s - loss: 0.7617 - acc: 0.7491 - val_loss: 0.5761 - val_acc: 0.7992\n",
      "Epoch 2/10\n",
      "1875/1875 - 6s - loss: 0.5058 - acc: 0.8230 - val_loss: 0.4699 - val_acc: 0.8371\n",
      "Epoch 3/10\n",
      "1875/1875 - 5s - loss: 0.4595 - acc: 0.8387 - val_loss: 0.4355 - val_acc: 0.8530\n",
      "Epoch 4/10\n",
      "1875/1875 - 5s - loss: 0.4303 - acc: 0.8469 - val_loss: 0.4747 - val_acc: 0.8271\n",
      "Epoch 5/10\n",
      "1875/1875 - 4s - loss: 0.4097 - acc: 0.8547 - val_loss: 0.4007 - val_acc: 0.8611\n",
      "Epoch 6/10\n",
      "1875/1875 - 4s - loss: 0.3921 - acc: 0.8607 - val_loss: 0.3848 - val_acc: 0.8650\n",
      "Epoch 7/10\n",
      "1875/1875 - 4s - loss: 0.3784 - acc: 0.8650 - val_loss: 0.3811 - val_acc: 0.8655\n",
      "Epoch 8/10\n",
      "1875/1875 - 5s - loss: 0.3667 - acc: 0.8695 - val_loss: 0.3680 - val_acc: 0.8702\n",
      "Epoch 9/10\n",
      "1875/1875 - 5s - loss: 0.3564 - acc: 0.8732 - val_loss: 0.3641 - val_acc: 0.8697\n",
      "Epoch 10/10\n",
      "1875/1875 - 5s - loss: 0.3487 - acc: 0.8762 - val_loss: 0.3634 - val_acc: 0.8731\n"
     ]
    }
   ],
   "source": [
    "if __name__ == '__main__':\n",
    "    train_data = load_train()\n",
    "    test_data = load_test()\n",
    "    model = create_model(train_data[0].shape[1:])\n",
    "    model = train_model(model, train_data, test_data)"
   ]
  },
  {
   "cell_type": "code",
   "execution_count": null,
   "id": "f6ef8acf",
   "metadata": {
    "papermill": {
     "duration": 0.005387,
     "end_time": "2022-08-27T12:25:34.860901",
     "exception": false,
     "start_time": "2022-08-27T12:25:34.855514",
     "status": "completed"
    },
    "tags": []
   },
   "outputs": [],
   "source": []
  }
 ],
 "metadata": {
  "kernelspec": {
   "display_name": "Python 3",
   "language": "python",
   "name": "python3"
  },
  "language_info": {
   "codemirror_mode": {
    "name": "ipython",
    "version": 3
   },
   "file_extension": ".py",
   "mimetype": "text/x-python",
   "name": "python",
   "nbconvert_exporter": "python",
   "pygments_lexer": "ipython3",
   "version": "3.7.12"
  },
  "papermill": {
   "default_parameters": {},
   "duration": 112.290675,
   "end_time": "2022-08-27T12:25:38.390986",
   "environment_variables": {},
   "exception": null,
   "input_path": "__notebook__.ipynb",
   "output_path": "__notebook__.ipynb",
   "parameters": {},
   "start_time": "2022-08-27T12:23:46.100311",
   "version": "2.3.4"
  }
 },
 "nbformat": 4,
 "nbformat_minor": 5
}
