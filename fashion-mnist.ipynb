{
 "cells": [
  {
   "cell_type": "markdown",
   "id": "01a0c6a2",
   "metadata": {
    "papermill": {
     "duration": 0.00386,
     "end_time": "2022-08-27T12:30:35.332065",
     "exception": false,
     "start_time": "2022-08-27T12:30:35.328205",
     "status": "completed"
    },
    "tags": []
   },
   "source": [
    "**Классификатор товаров**"
   ]
  },
  {
   "cell_type": "markdown",
   "id": "425fd5da",
   "metadata": {
    "papermill": {
     "duration": 0.00282,
     "end_time": "2022-08-27T12:30:35.338040",
     "exception": false,
     "start_time": "2022-08-27T12:30:35.335220",
     "status": "completed"
    },
    "tags": []
   },
   "source": [
    "Для агрегатора магазинов одежды нужно сделать классификатор одежды на 10 классов."
   ]
  },
  {
   "cell_type": "code",
   "execution_count": 1,
   "id": "b7c70666",
   "metadata": {
    "execution": {
     "iopub.execute_input": "2022-08-27T12:30:35.345844Z",
     "iopub.status.busy": "2022-08-27T12:30:35.345286Z",
     "iopub.status.idle": "2022-08-27T12:30:43.318038Z",
     "shell.execute_reply": "2022-08-27T12:30:43.317012Z"
    },
    "papermill": {
     "duration": 7.979269,
     "end_time": "2022-08-27T12:30:43.320315",
     "exception": false,
     "start_time": "2022-08-27T12:30:35.341046",
     "status": "completed"
    },
    "tags": []
   },
   "outputs": [],
   "source": [
    "from tensorflow.keras.datasets import fashion_mnist\n",
    "from tensorflow.keras.models import Sequential\n",
    "from tensorflow.keras.layers import Dense\n",
    "import numpy as np\n",
    "import pandas as pd"
   ]
  },
  {
   "cell_type": "code",
   "execution_count": 2,
   "id": "494ffb91",
   "metadata": {
    "execution": {
     "iopub.execute_input": "2022-08-27T12:30:43.328288Z",
     "iopub.status.busy": "2022-08-27T12:30:43.327528Z",
     "iopub.status.idle": "2022-08-27T12:30:43.341163Z",
     "shell.execute_reply": "2022-08-27T12:30:43.339156Z"
    },
    "papermill": {
     "duration": 0.020283,
     "end_time": "2022-08-27T12:30:43.343649",
     "exception": false,
     "start_time": "2022-08-27T12:30:43.323366",
     "status": "completed"
    },
    "tags": []
   },
   "outputs": [
    {
     "name": "stdout",
     "output_type": "stream",
     "text": [
      "/kaggle/input/fashion-mnist-df/fashion-mnist_test.csv\n",
      "/kaggle/input/fashion-mnist-df/fashion-mnist_train.csv\n"
     ]
    }
   ],
   "source": [
    "import os\n",
    "for dirname, _, filenames in os.walk('/kaggle/input'):\n",
    "    for filename in filenames:\n",
    "        print(os.path.join(dirname, filename))"
   ]
  },
  {
   "cell_type": "code",
   "execution_count": 3,
   "id": "fd64f501",
   "metadata": {
    "execution": {
     "iopub.execute_input": "2022-08-27T12:30:43.351148Z",
     "iopub.status.busy": "2022-08-27T12:30:43.350792Z",
     "iopub.status.idle": "2022-08-27T12:30:47.856448Z",
     "shell.execute_reply": "2022-08-27T12:30:47.855237Z"
    },
    "papermill": {
     "duration": 4.511741,
     "end_time": "2022-08-27T12:30:47.858577",
     "exception": false,
     "start_time": "2022-08-27T12:30:43.346836",
     "status": "completed"
    },
    "tags": []
   },
   "outputs": [
    {
     "name": "stdout",
     "output_type": "stream",
     "text": [
      "features_train.head: (60000, 784)\n",
      "\n",
      "target_train.head (60000,)\n"
     ]
    }
   ],
   "source": [
    "df_train = pd.read_csv(\"/kaggle/input/fashion-mnist-df/fashion-mnist_train.csv\")\n",
    "\n",
    "features_train = np.array(df_train.drop(columns=['label'], axis=1))\n",
    "target_train = np.array(df_train['label'])\n",
    "print('features_train.head:', features_train.shape)\n",
    "print()\n",
    "print('target_train.head', target_train.shape)"
   ]
  },
  {
   "cell_type": "code",
   "execution_count": 4,
   "id": "8ef9d5c7",
   "metadata": {
    "execution": {
     "iopub.execute_input": "2022-08-27T12:30:47.866258Z",
     "iopub.status.busy": "2022-08-27T12:30:47.865916Z",
     "iopub.status.idle": "2022-08-27T12:30:48.509440Z",
     "shell.execute_reply": "2022-08-27T12:30:48.507456Z"
    },
    "papermill": {
     "duration": 0.651588,
     "end_time": "2022-08-27T12:30:48.513431",
     "exception": false,
     "start_time": "2022-08-27T12:30:47.861843",
     "status": "completed"
    },
    "tags": []
   },
   "outputs": [
    {
     "name": "stdout",
     "output_type": "stream",
     "text": [
      "features_test.head: (10000, 784)\n",
      "\n",
      "target_test.head (10000,)\n"
     ]
    }
   ],
   "source": [
    "df_test = pd.read_csv(\"/kaggle/input/fashion-mnist-df/fashion-mnist_test.csv\")\n",
    "\n",
    "features_test = np.array(df_test.drop(columns=['label'], axis=1))\n",
    "target_test = np.array(df_test['label'])\n",
    "print('features_test.head:', features_test.shape)\n",
    "print()\n",
    "print('target_test.head', target_test.shape)"
   ]
  },
  {
   "cell_type": "code",
   "execution_count": 5,
   "id": "812ebfd6",
   "metadata": {
    "execution": {
     "iopub.execute_input": "2022-08-27T12:30:48.522808Z",
     "iopub.status.busy": "2022-08-27T12:30:48.521893Z",
     "iopub.status.idle": "2022-08-27T12:30:48.527261Z",
     "shell.execute_reply": "2022-08-27T12:30:48.525980Z"
    },
    "papermill": {
     "duration": 0.012047,
     "end_time": "2022-08-27T12:30:48.529432",
     "exception": false,
     "start_time": "2022-08-27T12:30:48.517385",
     "status": "completed"
    },
    "tags": []
   },
   "outputs": [],
   "source": [
    "def load_train():\n",
    "    features = features_train.reshape(features_train.shape[0], 28 * 28) / 255\n",
    "    return features, target_train"
   ]
  },
  {
   "cell_type": "code",
   "execution_count": 6,
   "id": "85b46272",
   "metadata": {
    "execution": {
     "iopub.execute_input": "2022-08-27T12:30:48.537568Z",
     "iopub.status.busy": "2022-08-27T12:30:48.537265Z",
     "iopub.status.idle": "2022-08-27T12:30:48.542379Z",
     "shell.execute_reply": "2022-08-27T12:30:48.541075Z"
    },
    "papermill": {
     "duration": 0.011733,
     "end_time": "2022-08-27T12:30:48.544591",
     "exception": false,
     "start_time": "2022-08-27T12:30:48.532858",
     "status": "completed"
    },
    "tags": []
   },
   "outputs": [],
   "source": [
    "def load_test():\n",
    "    features = features_test.reshape(features_test.shape[0], 28 * 28) / 255\n",
    "    return features, target_test"
   ]
  },
  {
   "cell_type": "code",
   "execution_count": 7,
   "id": "811dc61d",
   "metadata": {
    "execution": {
     "iopub.execute_input": "2022-08-27T12:30:48.553228Z",
     "iopub.status.busy": "2022-08-27T12:30:48.552842Z",
     "iopub.status.idle": "2022-08-27T12:30:48.559373Z",
     "shell.execute_reply": "2022-08-27T12:30:48.557759Z"
    },
    "papermill": {
     "duration": 0.013762,
     "end_time": "2022-08-27T12:30:48.561887",
     "exception": false,
     "start_time": "2022-08-27T12:30:48.548125",
     "status": "completed"
    },
    "tags": []
   },
   "outputs": [],
   "source": [
    "def create_model(input_shape):\n",
    "    model = Sequential()\n",
    "    model.add(Dense(units=100, input_shape=input_shape, activation='relu'))\n",
    "    model.add(Dense(units=100, input_shape=input_shape, activation='relu'))\n",
    "    model.add(Dense(units=10, input_shape=input_shape, activation='softmax'))\n",
    "    model.compile(loss='sparse_categorical_crossentropy', optimizer='sgd', metrics=['acc'])\n",
    "    return model"
   ]
  },
  {
   "cell_type": "code",
   "execution_count": 8,
   "id": "030a00ab",
   "metadata": {
    "execution": {
     "iopub.execute_input": "2022-08-27T12:30:48.570271Z",
     "iopub.status.busy": "2022-08-27T12:30:48.569861Z",
     "iopub.status.idle": "2022-08-27T12:30:48.575754Z",
     "shell.execute_reply": "2022-08-27T12:30:48.574719Z"
    },
    "papermill": {
     "duration": 0.012191,
     "end_time": "2022-08-27T12:30:48.577507",
     "exception": false,
     "start_time": "2022-08-27T12:30:48.565316",
     "status": "completed"
    },
    "tags": []
   },
   "outputs": [],
   "source": [
    "def train_model(model, train_data, test_data, batch_size=32, epochs=10,\n",
    "               steps_per_epoch=None, validation_steps=None):\n",
    "    features_train, target_train = train_data\n",
    "    features_test, target_test = test_data\n",
    "    model.fit(\n",
    "        features_train, target_train,\n",
    "        validation_data=(features_test, target_test),\n",
    "        batch_size=batch_size,\n",
    "        epochs=epochs,\n",
    "        steps_per_epoch=steps_per_epoch,\n",
    "        validation_steps=validation_steps,\n",
    "        verbose=2,\n",
    "        shuffle=True\n",
    "    )"
   ]
  },
  {
   "cell_type": "code",
   "execution_count": 9,
   "id": "9eb4eda6",
   "metadata": {
    "execution": {
     "iopub.execute_input": "2022-08-27T12:30:48.585215Z",
     "iopub.status.busy": "2022-08-27T12:30:48.584870Z",
     "iopub.status.idle": "2022-08-27T12:32:11.526838Z",
     "shell.execute_reply": "2022-08-27T12:32:11.524272Z"
    },
    "papermill": {
     "duration": 82.949574,
     "end_time": "2022-08-27T12:32:11.530288",
     "exception": false,
     "start_time": "2022-08-27T12:30:48.580714",
     "status": "completed"
    },
    "tags": []
   },
   "outputs": [
    {
     "name": "stderr",
     "output_type": "stream",
     "text": [
      "2022-08-27 12:30:48.720102: I tensorflow/core/common_runtime/process_util.cc:146] Creating new thread pool with default inter op setting: 2. Tune using inter_op_parallelism_threads for best performance.\n",
      "2022-08-27 12:30:49.209167: I tensorflow/compiler/mlir/mlir_graph_optimization_pass.cc:185] None of the MLIR Optimization Passes are enabled (registered 2)\n"
     ]
    },
    {
     "name": "stdout",
     "output_type": "stream",
     "text": [
      "Epoch 1/10\n",
      "1875/1875 - 5s - loss: 0.7509 - acc: 0.7517 - val_loss: 0.5506 - val_acc: 0.8072\n",
      "Epoch 2/10\n",
      "1875/1875 - 4s - loss: 0.5045 - acc: 0.8226 - val_loss: 0.4739 - val_acc: 0.8373\n",
      "Epoch 3/10\n",
      "1875/1875 - 6s - loss: 0.4589 - acc: 0.8395 - val_loss: 0.4512 - val_acc: 0.8420\n",
      "Epoch 4/10\n",
      "1875/1875 - 4s - loss: 0.4315 - acc: 0.8491 - val_loss: 0.4225 - val_acc: 0.8534\n",
      "Epoch 5/10\n",
      "1875/1875 - 6s - loss: 0.4119 - acc: 0.8540 - val_loss: 0.4153 - val_acc: 0.8526\n",
      "Epoch 6/10\n",
      "1875/1875 - 6s - loss: 0.3961 - acc: 0.8600 - val_loss: 0.4117 - val_acc: 0.8564\n",
      "Epoch 7/10\n",
      "1875/1875 - 4s - loss: 0.3838 - acc: 0.8652 - val_loss: 0.3879 - val_acc: 0.8642\n",
      "Epoch 8/10\n",
      "1875/1875 - 4s - loss: 0.3714 - acc: 0.8689 - val_loss: 0.3726 - val_acc: 0.8691\n",
      "Epoch 9/10\n",
      "1875/1875 - 4s - loss: 0.3618 - acc: 0.8729 - val_loss: 0.3813 - val_acc: 0.8647\n",
      "Epoch 10/10\n",
      "1875/1875 - 4s - loss: 0.3537 - acc: 0.8733 - val_loss: 0.3639 - val_acc: 0.8699\n"
     ]
    }
   ],
   "source": [
    "if __name__ == '__main__':\n",
    "    train_data = load_train()\n",
    "    test_data = load_test()\n",
    "    model = create_model(train_data[0].shape[1:])\n",
    "    model = train_model(model, train_data, test_data)"
   ]
  },
  {
   "cell_type": "code",
   "execution_count": null,
   "id": "853422f6",
   "metadata": {
    "papermill": {
     "duration": 0.005953,
     "end_time": "2022-08-27T12:32:11.541578",
     "exception": false,
     "start_time": "2022-08-27T12:32:11.535625",
     "status": "completed"
    },
    "tags": []
   },
   "outputs": [],
   "source": []
  }
 ],
 "metadata": {
  "kernelspec": {
   "display_name": "Python 3",
   "language": "python",
   "name": "python3"
  },
  "language_info": {
   "codemirror_mode": {
    "name": "ipython",
    "version": 3
   },
   "file_extension": ".py",
   "mimetype": "text/x-python",
   "name": "python",
   "nbconvert_exporter": "python",
   "pygments_lexer": "ipython3",
   "version": "3.7.12"
  },
  "papermill": {
   "default_parameters": {},
   "duration": 107.058208,
   "end_time": "2022-08-27T12:32:14.255717",
   "environment_variables": {},
   "exception": null,
   "input_path": "__notebook__.ipynb",
   "output_path": "__notebook__.ipynb",
   "parameters": {},
   "start_time": "2022-08-27T12:30:27.197509",
   "version": "2.3.4"
  }
 },
 "nbformat": 4,
 "nbformat_minor": 5
}
