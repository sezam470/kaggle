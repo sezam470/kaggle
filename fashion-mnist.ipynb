{
 "cells": [
  {
   "cell_type": "markdown",
   "id": "affe8084",
   "metadata": {
    "papermill": {
     "duration": 0.004263,
     "end_time": "2022-08-28T17:19:50.463699",
     "exception": false,
     "start_time": "2022-08-28T17:19:50.459436",
     "status": "completed"
    },
    "tags": []
   },
   "source": [
    "**Классификатор товаров**"
   ]
  },
  {
   "cell_type": "markdown",
   "id": "118ef82c",
   "metadata": {
    "papermill": {
     "duration": 0.002856,
     "end_time": "2022-08-28T17:19:50.469885",
     "exception": false,
     "start_time": "2022-08-28T17:19:50.467029",
     "status": "completed"
    },
    "tags": []
   },
   "source": [
    "Для агрегатора магазинов одежды нужно сделать классификатор одежды на 10 классов."
   ]
  },
  {
   "cell_type": "code",
   "execution_count": 1,
   "id": "74e0830e",
   "metadata": {
    "execution": {
     "iopub.execute_input": "2022-08-28T17:19:50.478090Z",
     "iopub.status.busy": "2022-08-28T17:19:50.477626Z",
     "iopub.status.idle": "2022-08-28T17:19:56.737503Z",
     "shell.execute_reply": "2022-08-28T17:19:56.736312Z"
    },
    "papermill": {
     "duration": 6.267631,
     "end_time": "2022-08-28T17:19:56.740602",
     "exception": false,
     "start_time": "2022-08-28T17:19:50.472971",
     "status": "completed"
    },
    "tags": []
   },
   "outputs": [],
   "source": [
    "from tensorflow.keras.datasets import fashion_mnist\n",
    "from tensorflow.keras.models import Sequential\n",
    "from tensorflow.keras.layers import Dense, Conv2D, AvgPool2D, Flatten\n",
    "from tensorflow.keras.optimizers import Adam\n",
    "import numpy as np\n",
    "import pandas as pd"
   ]
  },
  {
   "cell_type": "code",
   "execution_count": 2,
   "id": "bdda5f81",
   "metadata": {
    "execution": {
     "iopub.execute_input": "2022-08-28T17:19:56.749789Z",
     "iopub.status.busy": "2022-08-28T17:19:56.748720Z",
     "iopub.status.idle": "2022-08-28T17:19:56.763073Z",
     "shell.execute_reply": "2022-08-28T17:19:56.760801Z"
    },
    "papermill": {
     "duration": 0.021899,
     "end_time": "2022-08-28T17:19:56.766091",
     "exception": false,
     "start_time": "2022-08-28T17:19:56.744192",
     "status": "completed"
    },
    "tags": []
   },
   "outputs": [
    {
     "name": "stdout",
     "output_type": "stream",
     "text": [
      "/kaggle/input/fashion-mnist-df/fashion-mnist_test.csv\n",
      "/kaggle/input/fashion-mnist-df/fashion-mnist_train.csv\n"
     ]
    }
   ],
   "source": [
    "import os\n",
    "for dirname, _, filenames in os.walk('/kaggle/input'):\n",
    "    for filename in filenames:\n",
    "        print(os.path.join(dirname, filename))"
   ]
  },
  {
   "cell_type": "code",
   "execution_count": 3,
   "id": "5c595087",
   "metadata": {
    "execution": {
     "iopub.execute_input": "2022-08-28T17:19:56.774943Z",
     "iopub.status.busy": "2022-08-28T17:19:56.774564Z",
     "iopub.status.idle": "2022-08-28T17:20:02.609236Z",
     "shell.execute_reply": "2022-08-28T17:20:02.607783Z"
    },
    "papermill": {
     "duration": 5.841708,
     "end_time": "2022-08-28T17:20:02.611734",
     "exception": false,
     "start_time": "2022-08-28T17:19:56.770026",
     "status": "completed"
    },
    "tags": []
   },
   "outputs": [
    {
     "name": "stdout",
     "output_type": "stream",
     "text": [
      "features_train.head: (60000, 784)\n",
      "\n",
      "target_train.head (60000,)\n"
     ]
    }
   ],
   "source": [
    "df_train = pd.read_csv(\"/kaggle/input/fashion-mnist-df/fashion-mnist_train.csv\")\n",
    "\n",
    "features_train = np.array(df_train.drop(columns=['label'], axis=1))\n",
    "target_train = np.array(df_train['label'])\n",
    "print('features_train.head:', features_train.shape)\n",
    "print()\n",
    "print('target_train.head', target_train.shape)"
   ]
  },
  {
   "cell_type": "code",
   "execution_count": 4,
   "id": "6162834c",
   "metadata": {
    "execution": {
     "iopub.execute_input": "2022-08-28T17:20:02.620223Z",
     "iopub.status.busy": "2022-08-28T17:20:02.619831Z",
     "iopub.status.idle": "2022-08-28T17:20:03.532472Z",
     "shell.execute_reply": "2022-08-28T17:20:03.531275Z"
    },
    "papermill": {
     "duration": 0.920563,
     "end_time": "2022-08-28T17:20:03.535767",
     "exception": false,
     "start_time": "2022-08-28T17:20:02.615204",
     "status": "completed"
    },
    "tags": []
   },
   "outputs": [
    {
     "name": "stdout",
     "output_type": "stream",
     "text": [
      "features_test.head: (10000, 784)\n",
      "\n",
      "target_test.head (10000,)\n"
     ]
    }
   ],
   "source": [
    "df_test = pd.read_csv(\"/kaggle/input/fashion-mnist-df/fashion-mnist_test.csv\")\n",
    "\n",
    "features_test = np.array(df_test.drop(columns=['label'], axis=1))\n",
    "target_test = np.array(df_test['label'])\n",
    "print('features_test.head:', features_test.shape)\n",
    "print()\n",
    "print('target_test.head', target_test.shape)"
   ]
  },
  {
   "cell_type": "code",
   "execution_count": 5,
   "id": "30276d3f",
   "metadata": {
    "execution": {
     "iopub.execute_input": "2022-08-28T17:20:03.544967Z",
     "iopub.status.busy": "2022-08-28T17:20:03.544548Z",
     "iopub.status.idle": "2022-08-28T17:20:03.549837Z",
     "shell.execute_reply": "2022-08-28T17:20:03.548593Z"
    },
    "papermill": {
     "duration": 0.012928,
     "end_time": "2022-08-28T17:20:03.552357",
     "exception": false,
     "start_time": "2022-08-28T17:20:03.539429",
     "status": "completed"
    },
    "tags": []
   },
   "outputs": [],
   "source": [
    "def load_train():\n",
    "    features = features_train.reshape(-1, 28, 28, 1) / 255\n",
    "    return features, target_train"
   ]
  },
  {
   "cell_type": "code",
   "execution_count": 6,
   "id": "2901e538",
   "metadata": {
    "execution": {
     "iopub.execute_input": "2022-08-28T17:20:03.561312Z",
     "iopub.status.busy": "2022-08-28T17:20:03.560600Z",
     "iopub.status.idle": "2022-08-28T17:20:03.566121Z",
     "shell.execute_reply": "2022-08-28T17:20:03.565136Z"
    },
    "papermill": {
     "duration": 0.012503,
     "end_time": "2022-08-28T17:20:03.568470",
     "exception": false,
     "start_time": "2022-08-28T17:20:03.555967",
     "status": "completed"
    },
    "tags": []
   },
   "outputs": [],
   "source": [
    "def load_test():\n",
    "    features = features_test.reshape(-1, 28, 28, 1) / 255\n",
    "    return features, target_test"
   ]
  },
  {
   "cell_type": "code",
   "execution_count": 7,
   "id": "7e1a610a",
   "metadata": {
    "execution": {
     "iopub.execute_input": "2022-08-28T17:20:03.576753Z",
     "iopub.status.busy": "2022-08-28T17:20:03.576411Z",
     "iopub.status.idle": "2022-08-28T17:20:03.584125Z",
     "shell.execute_reply": "2022-08-28T17:20:03.582935Z"
    },
    "papermill": {
     "duration": 0.014414,
     "end_time": "2022-08-28T17:20:03.586388",
     "exception": false,
     "start_time": "2022-08-28T17:20:03.571974",
     "status": "completed"
    },
    "tags": []
   },
   "outputs": [],
   "source": [
    "def create_model(input_shape):\n",
    "    model = Sequential()\n",
    "    model.add(Conv2D(filters=6, kernel_size=(5, 5), input_shape=input_shape, padding='same', activation='relu'))\n",
    "    model.add(AvgPool2D(pool_size=(2, 2)))\n",
    "    model.add(Conv2D(filters=16, kernel_size=(5, 5), activation='relu'))\n",
    "    model.add(AvgPool2D(pool_size=(2, 2)))\n",
    "    model.add(Flatten())\n",
    "    model.add(Dense(units=120, activation='relu'))\n",
    "    model.add(Dense(units=84, activation='relu'))\n",
    "    model.add(Dense(units=10, activation='softmax'))\n",
    "    model.compile(loss='sparse_categorical_crossentropy', optimizer=Adam(lr=0.0001), metrics=['acc'])\n",
    "    return model"
   ]
  },
  {
   "cell_type": "code",
   "execution_count": 8,
   "id": "68cb98e5",
   "metadata": {
    "execution": {
     "iopub.execute_input": "2022-08-28T17:20:03.595111Z",
     "iopub.status.busy": "2022-08-28T17:20:03.594547Z",
     "iopub.status.idle": "2022-08-28T17:20:03.601157Z",
     "shell.execute_reply": "2022-08-28T17:20:03.600108Z"
    },
    "papermill": {
     "duration": 0.013288,
     "end_time": "2022-08-28T17:20:03.603331",
     "exception": false,
     "start_time": "2022-08-28T17:20:03.590043",
     "status": "completed"
    },
    "tags": []
   },
   "outputs": [],
   "source": [
    "def train_model(model, train_data, test_data, batch_size=32, epochs=20,\n",
    "               steps_per_epoch=None, validation_steps=None):\n",
    "    features_train, target_train = train_data\n",
    "    features_test, target_test = test_data\n",
    "    model.fit(\n",
    "        features_train, target_train,\n",
    "        validation_data=(features_test, target_test),\n",
    "        batch_size=batch_size,\n",
    "        epochs=epochs,\n",
    "        steps_per_epoch=steps_per_epoch,\n",
    "        validation_steps=validation_steps,\n",
    "        verbose=2,\n",
    "        shuffle=True\n",
    "    )\n",
    "    return model"
   ]
  },
  {
   "cell_type": "code",
   "execution_count": 9,
   "id": "ebce78ca",
   "metadata": {
    "execution": {
     "iopub.execute_input": "2022-08-28T17:20:03.612695Z",
     "iopub.status.busy": "2022-08-28T17:20:03.611604Z",
     "iopub.status.idle": "2022-08-28T17:24:27.887161Z",
     "shell.execute_reply": "2022-08-28T17:24:27.886026Z"
    },
    "papermill": {
     "duration": 264.285153,
     "end_time": "2022-08-28T17:24:27.892065",
     "exception": false,
     "start_time": "2022-08-28T17:20:03.606912",
     "status": "completed"
    },
    "tags": []
   },
   "outputs": [
    {
     "name": "stderr",
     "output_type": "stream",
     "text": [
      "2022-08-28 17:20:03.824509: I tensorflow/core/common_runtime/process_util.cc:146] Creating new thread pool with default inter op setting: 2. Tune using inter_op_parallelism_threads for best performance.\n",
      "/opt/conda/lib/python3.7/site-packages/keras/optimizer_v2/optimizer_v2.py:356: UserWarning: The `lr` argument is deprecated, use `learning_rate` instead.\n",
      "  \"The `lr` argument is deprecated, use `learning_rate` instead.\")\n",
      "2022-08-28 17:20:04.496122: I tensorflow/compiler/mlir/mlir_graph_optimization_pass.cc:185] None of the MLIR Optimization Passes are enabled (registered 2)\n"
     ]
    },
    {
     "name": "stdout",
     "output_type": "stream",
     "text": [
      "Epoch 1/20\n",
      "1875/1875 - 12s - loss: 0.8317 - acc: 0.7023 - val_loss: 0.6075 - val_acc: 0.7690\n",
      "Epoch 2/20\n",
      "1875/1875 - 11s - loss: 0.5691 - acc: 0.7880 - val_loss: 0.5276 - val_acc: 0.8097\n",
      "Epoch 3/20\n",
      "1875/1875 - 10s - loss: 0.5144 - acc: 0.8097 - val_loss: 0.4917 - val_acc: 0.8252\n",
      "Epoch 4/20\n",
      "1875/1875 - 10s - loss: 0.4777 - acc: 0.8262 - val_loss: 0.4684 - val_acc: 0.8306\n",
      "Epoch 5/20\n",
      "1875/1875 - 11s - loss: 0.4538 - acc: 0.8356 - val_loss: 0.4601 - val_acc: 0.8286\n",
      "Epoch 6/20\n",
      "1875/1875 - 10s - loss: 0.4364 - acc: 0.8433 - val_loss: 0.4334 - val_acc: 0.8453\n",
      "Epoch 7/20\n",
      "1875/1875 - 11s - loss: 0.4199 - acc: 0.8490 - val_loss: 0.4069 - val_acc: 0.8565\n",
      "Epoch 8/20\n",
      "1875/1875 - 12s - loss: 0.4080 - acc: 0.8531 - val_loss: 0.3942 - val_acc: 0.8607\n",
      "Epoch 9/20\n",
      "1875/1875 - 11s - loss: 0.3952 - acc: 0.8576 - val_loss: 0.3847 - val_acc: 0.8646\n",
      "Epoch 10/20\n",
      "1875/1875 - 11s - loss: 0.3858 - acc: 0.8618 - val_loss: 0.3796 - val_acc: 0.8654\n",
      "Epoch 11/20\n",
      "1875/1875 - 11s - loss: 0.3766 - acc: 0.8662 - val_loss: 0.3746 - val_acc: 0.8636\n",
      "Epoch 12/20\n",
      "1875/1875 - 10s - loss: 0.3679 - acc: 0.8675 - val_loss: 0.3673 - val_acc: 0.8677\n",
      "Epoch 13/20\n",
      "1875/1875 - 11s - loss: 0.3605 - acc: 0.8701 - val_loss: 0.3616 - val_acc: 0.8677\n",
      "Epoch 14/20\n",
      "1875/1875 - 11s - loss: 0.3525 - acc: 0.8732 - val_loss: 0.3539 - val_acc: 0.8705\n",
      "Epoch 15/20\n",
      "1875/1875 - 10s - loss: 0.3463 - acc: 0.8758 - val_loss: 0.3518 - val_acc: 0.8706\n",
      "Epoch 16/20\n",
      "1875/1875 - 10s - loss: 0.3400 - acc: 0.8784 - val_loss: 0.3469 - val_acc: 0.8724\n",
      "Epoch 17/20\n",
      "1875/1875 - 11s - loss: 0.3338 - acc: 0.8795 - val_loss: 0.3359 - val_acc: 0.8792\n",
      "Epoch 18/20\n",
      "1875/1875 - 11s - loss: 0.3285 - acc: 0.8821 - val_loss: 0.3378 - val_acc: 0.8785\n",
      "Epoch 19/20\n",
      "1875/1875 - 10s - loss: 0.3234 - acc: 0.8840 - val_loss: 0.3226 - val_acc: 0.8835\n",
      "Epoch 20/20\n",
      "1875/1875 - 11s - loss: 0.3183 - acc: 0.8856 - val_loss: 0.3275 - val_acc: 0.8785\n",
      "313/313 - 1s - loss: 0.3275 - acc: 0.8785\n",
      "\n",
      "Model accuracy: 87.85%\n"
     ]
    }
   ],
   "source": [
    "if __name__ == '__main__':\n",
    "    train_data = load_train()\n",
    "    test_data = load_test()\n",
    "    model = create_model(train_data[0].shape[1:])\n",
    "    model = train_model(model, train_data, test_data)\n",
    "    loss, acc = model.evaluate(test_data[0], test_data[1], verbose=2)\n",
    "    print()\n",
    "    print('Model accuracy: {:5.2f}%'.format(100 * acc))"
   ]
  }
 ],
 "metadata": {
  "kernelspec": {
   "display_name": "Python 3",
   "language": "python",
   "name": "python3"
  },
  "language_info": {
   "codemirror_mode": {
    "name": "ipython",
    "version": 3
   },
   "file_extension": ".py",
   "mimetype": "text/x-python",
   "name": "python",
   "nbconvert_exporter": "python",
   "pygments_lexer": "ipython3",
   "version": "3.7.12"
  },
  "papermill": {
   "default_parameters": {},
   "duration": 289.986464,
   "end_time": "2022-08-28T17:24:31.084975",
   "environment_variables": {},
   "exception": null,
   "input_path": "__notebook__.ipynb",
   "output_path": "__notebook__.ipynb",
   "parameters": {},
   "start_time": "2022-08-28T17:19:41.098511",
   "version": "2.3.4"
  }
 },
 "nbformat": 4,
 "nbformat_minor": 5
}
