{
 "cells": [
  {
   "cell_type": "markdown",
   "id": "bcb5823a",
   "metadata": {
    "papermill": {
     "duration": 0.004552,
     "end_time": "2022-08-28T16:40:57.343288",
     "exception": false,
     "start_time": "2022-08-28T16:40:57.338736",
     "status": "completed"
    },
    "tags": []
   },
   "source": [
    "**Классификатор товаров**"
   ]
  },
  {
   "cell_type": "markdown",
   "id": "d76936cd",
   "metadata": {
    "papermill": {
     "duration": 0.003154,
     "end_time": "2022-08-28T16:40:57.350099",
     "exception": false,
     "start_time": "2022-08-28T16:40:57.346945",
     "status": "completed"
    },
    "tags": []
   },
   "source": [
    "Для агрегатора магазинов одежды нужно сделать классификатор одежды на 10 классов."
   ]
  },
  {
   "cell_type": "code",
   "execution_count": 1,
   "id": "51722efb",
   "metadata": {
    "execution": {
     "iopub.execute_input": "2022-08-28T16:40:57.358902Z",
     "iopub.status.busy": "2022-08-28T16:40:57.358397Z",
     "iopub.status.idle": "2022-08-28T16:41:03.960993Z",
     "shell.execute_reply": "2022-08-28T16:41:03.959733Z"
    },
    "papermill": {
     "duration": 6.610614,
     "end_time": "2022-08-28T16:41:03.964088",
     "exception": false,
     "start_time": "2022-08-28T16:40:57.353474",
     "status": "completed"
    },
    "tags": []
   },
   "outputs": [],
   "source": [
    "from tensorflow.keras.datasets import fashion_mnist\n",
    "from tensorflow.keras.models import Sequential\n",
    "from tensorflow.keras.layers import Dense, Conv2D, AvgPool2D, Flatten\n",
    "from tensorflow.keras.optimizers import Adam\n",
    "import numpy as np\n",
    "import pandas as pd"
   ]
  },
  {
   "cell_type": "code",
   "execution_count": 2,
   "id": "3f400d4c",
   "metadata": {
    "execution": {
     "iopub.execute_input": "2022-08-28T16:41:03.973549Z",
     "iopub.status.busy": "2022-08-28T16:41:03.972531Z",
     "iopub.status.idle": "2022-08-28T16:41:03.985188Z",
     "shell.execute_reply": "2022-08-28T16:41:03.984044Z"
    },
    "papermill": {
     "duration": 0.019941,
     "end_time": "2022-08-28T16:41:03.987614",
     "exception": false,
     "start_time": "2022-08-28T16:41:03.967673",
     "status": "completed"
    },
    "tags": []
   },
   "outputs": [
    {
     "name": "stdout",
     "output_type": "stream",
     "text": [
      "/kaggle/input/fashion-mnist-df/fashion-mnist_test.csv\n",
      "/kaggle/input/fashion-mnist-df/fashion-mnist_train.csv\n"
     ]
    }
   ],
   "source": [
    "import os\n",
    "for dirname, _, filenames in os.walk('/kaggle/input'):\n",
    "    for filename in filenames:\n",
    "        print(os.path.join(dirname, filename))"
   ]
  },
  {
   "cell_type": "code",
   "execution_count": 3,
   "id": "e42a2cd4",
   "metadata": {
    "execution": {
     "iopub.execute_input": "2022-08-28T16:41:03.996292Z",
     "iopub.status.busy": "2022-08-28T16:41:03.995898Z",
     "iopub.status.idle": "2022-08-28T16:41:09.902466Z",
     "shell.execute_reply": "2022-08-28T16:41:09.900869Z"
    },
    "papermill": {
     "duration": 5.914151,
     "end_time": "2022-08-28T16:41:09.905351",
     "exception": false,
     "start_time": "2022-08-28T16:41:03.991200",
     "status": "completed"
    },
    "tags": []
   },
   "outputs": [
    {
     "name": "stdout",
     "output_type": "stream",
     "text": [
      "features_train.head: (60000, 784)\n",
      "\n",
      "target_train.head (60000,)\n"
     ]
    }
   ],
   "source": [
    "df_train = pd.read_csv(\"/kaggle/input/fashion-mnist-df/fashion-mnist_train.csv\")\n",
    "\n",
    "features_train = np.array(df_train.drop(columns=['label'], axis=1))\n",
    "target_train = np.array(df_train['label'])\n",
    "print('features_train.head:', features_train.shape)\n",
    "print()\n",
    "print('target_train.head', target_train.shape)"
   ]
  },
  {
   "cell_type": "code",
   "execution_count": 4,
   "id": "d1785fb8",
   "metadata": {
    "execution": {
     "iopub.execute_input": "2022-08-28T16:41:09.914088Z",
     "iopub.status.busy": "2022-08-28T16:41:09.913689Z",
     "iopub.status.idle": "2022-08-28T16:41:10.798378Z",
     "shell.execute_reply": "2022-08-28T16:41:10.797146Z"
    },
    "papermill": {
     "duration": 0.892357,
     "end_time": "2022-08-28T16:41:10.801506",
     "exception": false,
     "start_time": "2022-08-28T16:41:09.909149",
     "status": "completed"
    },
    "tags": []
   },
   "outputs": [
    {
     "name": "stdout",
     "output_type": "stream",
     "text": [
      "features_test.head: (10000, 784)\n",
      "\n",
      "target_test.head (10000,)\n"
     ]
    }
   ],
   "source": [
    "df_test = pd.read_csv(\"/kaggle/input/fashion-mnist-df/fashion-mnist_test.csv\")\n",
    "\n",
    "features_test = np.array(df_test.drop(columns=['label'], axis=1))\n",
    "target_test = np.array(df_test['label'])\n",
    "print('features_test.head:', features_test.shape)\n",
    "print()\n",
    "print('target_test.head', target_test.shape)"
   ]
  },
  {
   "cell_type": "code",
   "execution_count": 5,
   "id": "5ba471d5",
   "metadata": {
    "execution": {
     "iopub.execute_input": "2022-08-28T16:41:10.810962Z",
     "iopub.status.busy": "2022-08-28T16:41:10.810577Z",
     "iopub.status.idle": "2022-08-28T16:41:10.816266Z",
     "shell.execute_reply": "2022-08-28T16:41:10.815062Z"
    },
    "papermill": {
     "duration": 0.012825,
     "end_time": "2022-08-28T16:41:10.818547",
     "exception": false,
     "start_time": "2022-08-28T16:41:10.805722",
     "status": "completed"
    },
    "tags": []
   },
   "outputs": [],
   "source": [
    "def load_train():\n",
    "    features = features_train.reshape(-1, 28, 28, 1) / 255\n",
    "    return features, target_train"
   ]
  },
  {
   "cell_type": "code",
   "execution_count": 6,
   "id": "c0e8bf67",
   "metadata": {
    "execution": {
     "iopub.execute_input": "2022-08-28T16:41:10.827441Z",
     "iopub.status.busy": "2022-08-28T16:41:10.827058Z",
     "iopub.status.idle": "2022-08-28T16:41:10.832082Z",
     "shell.execute_reply": "2022-08-28T16:41:10.831172Z"
    },
    "papermill": {
     "duration": 0.011981,
     "end_time": "2022-08-28T16:41:10.834228",
     "exception": false,
     "start_time": "2022-08-28T16:41:10.822247",
     "status": "completed"
    },
    "tags": []
   },
   "outputs": [],
   "source": [
    "def load_test():\n",
    "    features = features_test.reshape(-1, 28, 28, 1) / 255\n",
    "    return features, target_test"
   ]
  },
  {
   "cell_type": "code",
   "execution_count": 7,
   "id": "c4d1b422",
   "metadata": {
    "execution": {
     "iopub.execute_input": "2022-08-28T16:41:10.843786Z",
     "iopub.status.busy": "2022-08-28T16:41:10.843179Z",
     "iopub.status.idle": "2022-08-28T16:41:10.851423Z",
     "shell.execute_reply": "2022-08-28T16:41:10.850318Z"
    },
    "papermill": {
     "duration": 0.015899,
     "end_time": "2022-08-28T16:41:10.853904",
     "exception": false,
     "start_time": "2022-08-28T16:41:10.838005",
     "status": "completed"
    },
    "tags": []
   },
   "outputs": [],
   "source": [
    "def create_model(input_shape):\n",
    "    model = Sequential()\n",
    "    model.add(Conv2D(filters=6, kernel_size=(5, 5), input_shape=input_shape, padding='same', activation='relu'))\n",
    "    model.add(AvgPool2D(pool_size=(2, 2)))\n",
    "    model.add(Conv2D(filters=16, kernel_size=(5, 5), activation='relu'))\n",
    "    model.add(AvgPool2D(pool_size=(2, 2)))\n",
    "    model.add(Flatten())\n",
    "    model.add(Dense(units=120, activation='relu'))\n",
    "    model.add(Dense(units=84, activation='relu'))\n",
    "    model.add(Dense(units=10, activation='softmax'))\n",
    "    model.compile(loss='sparse_categorical_crossentropy', optimizer=Adam(lr=0.0001), metrics=['acc'])\n",
    "    return model"
   ]
  },
  {
   "cell_type": "code",
   "execution_count": 8,
   "id": "005f469e",
   "metadata": {
    "execution": {
     "iopub.execute_input": "2022-08-28T16:41:10.862778Z",
     "iopub.status.busy": "2022-08-28T16:41:10.862402Z",
     "iopub.status.idle": "2022-08-28T16:41:10.868993Z",
     "shell.execute_reply": "2022-08-28T16:41:10.867867Z"
    },
    "papermill": {
     "duration": 0.013755,
     "end_time": "2022-08-28T16:41:10.871492",
     "exception": false,
     "start_time": "2022-08-28T16:41:10.857737",
     "status": "completed"
    },
    "tags": []
   },
   "outputs": [],
   "source": [
    "def train_model(model, train_data, test_data, batch_size=32, epochs=20,\n",
    "               steps_per_epoch=None, validation_steps=None):\n",
    "    features_train, target_train = train_data\n",
    "    features_test, target_test = test_data\n",
    "    model.fit(\n",
    "        features_train, target_train,\n",
    "        validation_data=(features_test, target_test),\n",
    "        batch_size=batch_size,\n",
    "        epochs=epochs,\n",
    "        steps_per_epoch=steps_per_epoch,\n",
    "        validation_steps=validation_steps,\n",
    "        verbose=2,\n",
    "        shuffle=True\n",
    "    )\n",
    "    return model"
   ]
  },
  {
   "cell_type": "code",
   "execution_count": 9,
   "id": "4beafc5f",
   "metadata": {
    "execution": {
     "iopub.execute_input": "2022-08-28T16:41:10.880196Z",
     "iopub.status.busy": "2022-08-28T16:41:10.879798Z",
     "iopub.status.idle": "2022-08-28T16:44:35.839360Z",
     "shell.execute_reply": "2022-08-28T16:44:35.837884Z"
    },
    "papermill": {
     "duration": 204.966641,
     "end_time": "2022-08-28T16:44:35.841799",
     "exception": false,
     "start_time": "2022-08-28T16:41:10.875158",
     "status": "completed"
    },
    "tags": []
   },
   "outputs": [
    {
     "name": "stderr",
     "output_type": "stream",
     "text": [
      "2022-08-28 16:41:11.095011: I tensorflow/core/common_runtime/process_util.cc:146] Creating new thread pool with default inter op setting: 2. Tune using inter_op_parallelism_threads for best performance.\n",
      "/opt/conda/lib/python3.7/site-packages/keras/optimizer_v2/optimizer_v2.py:356: UserWarning: The `lr` argument is deprecated, use `learning_rate` instead.\n",
      "  \"The `lr` argument is deprecated, use `learning_rate` instead.\")\n",
      "2022-08-28 16:41:11.794797: I tensorflow/compiler/mlir/mlir_graph_optimization_pass.cc:185] None of the MLIR Optimization Passes are enabled (registered 2)\n"
     ]
    },
    {
     "name": "stdout",
     "output_type": "stream",
     "text": [
      "Epoch 1/20\n",
      "1875/1875 - 11s - loss: 0.8393 - acc: 0.7018 - val_loss: 0.6160 - val_acc: 0.7647\n",
      "Epoch 2/20\n",
      "1875/1875 - 10s - loss: 0.5843 - acc: 0.7803 - val_loss: 0.5658 - val_acc: 0.7931\n",
      "Epoch 3/20\n",
      "1875/1875 - 10s - loss: 0.5296 - acc: 0.8039 - val_loss: 0.4994 - val_acc: 0.8230\n",
      "Epoch 4/20\n",
      "1875/1875 - 10s - loss: 0.4956 - acc: 0.8190 - val_loss: 0.4686 - val_acc: 0.8350\n",
      "Epoch 5/20\n",
      "1875/1875 - 10s - loss: 0.4707 - acc: 0.8277 - val_loss: 0.4499 - val_acc: 0.8400\n",
      "Epoch 6/20\n",
      "1875/1875 - 11s - loss: 0.4516 - acc: 0.8360 - val_loss: 0.4319 - val_acc: 0.8463\n",
      "Epoch 7/20\n",
      "1875/1875 - 10s - loss: 0.4352 - acc: 0.8420 - val_loss: 0.4096 - val_acc: 0.8539\n",
      "Epoch 8/20\n",
      "1875/1875 - 10s - loss: 0.4190 - acc: 0.8494 - val_loss: 0.4063 - val_acc: 0.8547\n",
      "Epoch 9/20\n",
      "1875/1875 - 11s - loss: 0.4088 - acc: 0.8520 - val_loss: 0.3986 - val_acc: 0.8589\n",
      "Epoch 10/20\n",
      "1875/1875 - 10s - loss: 0.3964 - acc: 0.8567 - val_loss: 0.4085 - val_acc: 0.8524\n",
      "Epoch 11/20\n",
      "1875/1875 - 10s - loss: 0.3873 - acc: 0.8594 - val_loss: 0.3794 - val_acc: 0.8631\n",
      "Epoch 12/20\n",
      "1875/1875 - 10s - loss: 0.3781 - acc: 0.8629 - val_loss: 0.3819 - val_acc: 0.8627\n",
      "Epoch 13/20\n",
      "1875/1875 - 11s - loss: 0.3700 - acc: 0.8664 - val_loss: 0.3822 - val_acc: 0.8627\n",
      "Epoch 14/20\n",
      "1875/1875 - 10s - loss: 0.3623 - acc: 0.8700 - val_loss: 0.3618 - val_acc: 0.8694\n",
      "Epoch 15/20\n",
      "1875/1875 - 10s - loss: 0.3551 - acc: 0.8719 - val_loss: 0.3719 - val_acc: 0.8654\n",
      "Epoch 16/20\n",
      "1875/1875 - 10s - loss: 0.3486 - acc: 0.8751 - val_loss: 0.3532 - val_acc: 0.8706\n",
      "Epoch 17/20\n",
      "1875/1875 - 10s - loss: 0.3432 - acc: 0.8764 - val_loss: 0.3512 - val_acc: 0.8727\n",
      "Epoch 18/20\n",
      "1875/1875 - 11s - loss: 0.3369 - acc: 0.8785 - val_loss: 0.3509 - val_acc: 0.8721\n",
      "Epoch 19/20\n",
      "1875/1875 - 10s - loss: 0.3329 - acc: 0.8791 - val_loss: 0.3496 - val_acc: 0.8735\n",
      "Epoch 20/20\n",
      "1875/1875 - 10s - loss: 0.3278 - acc: 0.8826 - val_loss: 0.3341 - val_acc: 0.8777\n",
      "313/313 - 1s - loss: 0.3341 - acc: 0.8777\n",
      "\n",
      "Model accuracy: 87.77%\n"
     ]
    }
   ],
   "source": [
    "if __name__ == '__main__':\n",
    "    train_data = load_train()\n",
    "    test_data = load_test()\n",
    "    model = create_model(train_data[0].shape[1:])\n",
    "    model = train_model(model, train_data, test_data)\n",
    "    loss, acc = model.evaluate(test_data[0], test_data[1], verbose=2)\n",
    "    print()\n",
    "    print('Model accuracy: {:5.2f}%'.format(100 * acc))"
   ]
  }
 ],
 "metadata": {
  "kernelspec": {
   "display_name": "Python 3",
   "language": "python",
   "name": "python3"
  },
  "language_info": {
   "codemirror_mode": {
    "name": "ipython",
    "version": 3
   },
   "file_extension": ".py",
   "mimetype": "text/x-python",
   "name": "python",
   "nbconvert_exporter": "python",
   "pygments_lexer": "ipython3",
   "version": "3.7.12"
  },
  "papermill": {
   "default_parameters": {},
   "duration": 230.212629,
   "end_time": "2022-08-28T16:44:38.759265",
   "environment_variables": {},
   "exception": null,
   "input_path": "__notebook__.ipynb",
   "output_path": "__notebook__.ipynb",
   "parameters": {},
   "start_time": "2022-08-28T16:40:48.546636",
   "version": "2.3.4"
  }
 },
 "nbformat": 4,
 "nbformat_minor": 5
}
