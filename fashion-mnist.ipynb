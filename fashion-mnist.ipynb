{
 "cells": [
  {
   "cell_type": "markdown",
   "id": "449c18f0",
   "metadata": {
    "papermill": {
     "duration": 0.005167,
     "end_time": "2022-08-27T19:26:47.875231",
     "exception": false,
     "start_time": "2022-08-27T19:26:47.870064",
     "status": "completed"
    },
    "tags": []
   },
   "source": [
    "**Классификатор товаров**"
   ]
  },
  {
   "cell_type": "markdown",
   "id": "56a64cca",
   "metadata": {
    "papermill": {
     "duration": 0.003223,
     "end_time": "2022-08-27T19:26:47.882214",
     "exception": false,
     "start_time": "2022-08-27T19:26:47.878991",
     "status": "completed"
    },
    "tags": []
   },
   "source": [
    "Для агрегатора магазинов одежды нужно сделать классификатор одежды на 10 классов."
   ]
  },
  {
   "cell_type": "code",
   "execution_count": 1,
   "id": "768210e9",
   "metadata": {
    "execution": {
     "iopub.execute_input": "2022-08-27T19:26:47.891452Z",
     "iopub.status.busy": "2022-08-27T19:26:47.890668Z",
     "iopub.status.idle": "2022-08-27T19:26:54.785853Z",
     "shell.execute_reply": "2022-08-27T19:26:54.784673Z"
    },
    "papermill": {
     "duration": 6.903147,
     "end_time": "2022-08-27T19:26:54.788849",
     "exception": false,
     "start_time": "2022-08-27T19:26:47.885702",
     "status": "completed"
    },
    "tags": []
   },
   "outputs": [],
   "source": [
    "from tensorflow.keras.datasets import fashion_mnist\n",
    "from tensorflow.keras.models import Sequential\n",
    "from tensorflow.keras.layers import Dense\n",
    "import numpy as np\n",
    "import pandas as pd"
   ]
  },
  {
   "cell_type": "code",
   "execution_count": 2,
   "id": "6fbd2b6f",
   "metadata": {
    "execution": {
     "iopub.execute_input": "2022-08-27T19:26:54.798219Z",
     "iopub.status.busy": "2022-08-27T19:26:54.797525Z",
     "iopub.status.idle": "2022-08-27T19:26:54.810467Z",
     "shell.execute_reply": "2022-08-27T19:26:54.809265Z"
    },
    "papermill": {
     "duration": 0.021153,
     "end_time": "2022-08-27T19:26:54.813749",
     "exception": false,
     "start_time": "2022-08-27T19:26:54.792596",
     "status": "completed"
    },
    "tags": []
   },
   "outputs": [
    {
     "name": "stdout",
     "output_type": "stream",
     "text": [
      "/kaggle/input/fashion-mnist-df/fashion-mnist_test.csv\n",
      "/kaggle/input/fashion-mnist-df/fashion-mnist_train.csv\n"
     ]
    }
   ],
   "source": [
    "import os\n",
    "for dirname, _, filenames in os.walk('/kaggle/input'):\n",
    "    for filename in filenames:\n",
    "        print(os.path.join(dirname, filename))"
   ]
  },
  {
   "cell_type": "code",
   "execution_count": 3,
   "id": "2b0a85e3",
   "metadata": {
    "execution": {
     "iopub.execute_input": "2022-08-27T19:26:54.824294Z",
     "iopub.status.busy": "2022-08-27T19:26:54.823721Z",
     "iopub.status.idle": "2022-08-27T19:27:00.642812Z",
     "shell.execute_reply": "2022-08-27T19:27:00.641373Z"
    },
    "papermill": {
     "duration": 5.826694,
     "end_time": "2022-08-27T19:27:00.645439",
     "exception": false,
     "start_time": "2022-08-27T19:26:54.818745",
     "status": "completed"
    },
    "tags": []
   },
   "outputs": [
    {
     "name": "stdout",
     "output_type": "stream",
     "text": [
      "features_train.head: (60000, 784)\n",
      "\n",
      "target_train.head (60000,)\n"
     ]
    }
   ],
   "source": [
    "df_train = pd.read_csv(\"/kaggle/input/fashion-mnist-df/fashion-mnist_train.csv\")\n",
    "\n",
    "features_train = np.array(df_train.drop(columns=['label'], axis=1))\n",
    "target_train = np.array(df_train['label'])\n",
    "print('features_train.head:', features_train.shape)\n",
    "print()\n",
    "print('target_train.head', target_train.shape)"
   ]
  },
  {
   "cell_type": "code",
   "execution_count": 4,
   "id": "beabcc69",
   "metadata": {
    "execution": {
     "iopub.execute_input": "2022-08-27T19:27:00.654041Z",
     "iopub.status.busy": "2022-08-27T19:27:00.653677Z",
     "iopub.status.idle": "2022-08-27T19:27:01.519283Z",
     "shell.execute_reply": "2022-08-27T19:27:01.517848Z"
    },
    "papermill": {
     "duration": 0.87311,
     "end_time": "2022-08-27T19:27:01.522182",
     "exception": false,
     "start_time": "2022-08-27T19:27:00.649072",
     "status": "completed"
    },
    "tags": []
   },
   "outputs": [
    {
     "name": "stdout",
     "output_type": "stream",
     "text": [
      "features_test.head: (10000, 784)\n",
      "\n",
      "target_test.head (10000,)\n"
     ]
    }
   ],
   "source": [
    "df_test = pd.read_csv(\"/kaggle/input/fashion-mnist-df/fashion-mnist_test.csv\")\n",
    "\n",
    "features_test = np.array(df_test.drop(columns=['label'], axis=1))\n",
    "target_test = np.array(df_test['label'])\n",
    "print('features_test.head:', features_test.shape)\n",
    "print()\n",
    "print('target_test.head', target_test.shape)"
   ]
  },
  {
   "cell_type": "code",
   "execution_count": 5,
   "id": "fade39c5",
   "metadata": {
    "execution": {
     "iopub.execute_input": "2022-08-27T19:27:01.531096Z",
     "iopub.status.busy": "2022-08-27T19:27:01.530720Z",
     "iopub.status.idle": "2022-08-27T19:27:01.536444Z",
     "shell.execute_reply": "2022-08-27T19:27:01.535600Z"
    },
    "papermill": {
     "duration": 0.012659,
     "end_time": "2022-08-27T19:27:01.538553",
     "exception": false,
     "start_time": "2022-08-27T19:27:01.525894",
     "status": "completed"
    },
    "tags": []
   },
   "outputs": [],
   "source": [
    "def load_train():\n",
    "    features = features_train.reshape(features_train.shape[0], 28 * 28) / 255\n",
    "    return features, target_train"
   ]
  },
  {
   "cell_type": "code",
   "execution_count": 6,
   "id": "67e61ea2",
   "metadata": {
    "execution": {
     "iopub.execute_input": "2022-08-27T19:27:01.547746Z",
     "iopub.status.busy": "2022-08-27T19:27:01.547331Z",
     "iopub.status.idle": "2022-08-27T19:27:01.552691Z",
     "shell.execute_reply": "2022-08-27T19:27:01.551390Z"
    },
    "papermill": {
     "duration": 0.012599,
     "end_time": "2022-08-27T19:27:01.555077",
     "exception": false,
     "start_time": "2022-08-27T19:27:01.542478",
     "status": "completed"
    },
    "tags": []
   },
   "outputs": [],
   "source": [
    "def load_test():\n",
    "    features = features_test.reshape(features_test.shape[0], 28 * 28) / 255\n",
    "    return features, target_test"
   ]
  },
  {
   "cell_type": "code",
   "execution_count": 7,
   "id": "5521acb8",
   "metadata": {
    "execution": {
     "iopub.execute_input": "2022-08-27T19:27:01.563698Z",
     "iopub.status.busy": "2022-08-27T19:27:01.563325Z",
     "iopub.status.idle": "2022-08-27T19:27:01.569783Z",
     "shell.execute_reply": "2022-08-27T19:27:01.568603Z"
    },
    "papermill": {
     "duration": 0.013214,
     "end_time": "2022-08-27T19:27:01.571918",
     "exception": false,
     "start_time": "2022-08-27T19:27:01.558704",
     "status": "completed"
    },
    "tags": []
   },
   "outputs": [],
   "source": [
    "def create_model(input_shape):\n",
    "    model = Sequential()\n",
    "    model.add(Dense(units=100, input_shape=input_shape, activation='relu'))\n",
    "    model.add(Dense(units=100, activation='relu'))\n",
    "    model.add(Dense(units=10, activation='softmax'))\n",
    "    model.compile(loss='sparse_categorical_crossentropy', optimizer='sgd', metrics=['acc'])\n",
    "    return model"
   ]
  },
  {
   "cell_type": "code",
   "execution_count": 8,
   "id": "5f726c28",
   "metadata": {
    "execution": {
     "iopub.execute_input": "2022-08-27T19:27:01.581013Z",
     "iopub.status.busy": "2022-08-27T19:27:01.580303Z",
     "iopub.status.idle": "2022-08-27T19:27:01.587108Z",
     "shell.execute_reply": "2022-08-27T19:27:01.586107Z"
    },
    "papermill": {
     "duration": 0.014007,
     "end_time": "2022-08-27T19:27:01.589597",
     "exception": false,
     "start_time": "2022-08-27T19:27:01.575590",
     "status": "completed"
    },
    "tags": []
   },
   "outputs": [],
   "source": [
    "def train_model(model, train_data, test_data, batch_size=32, epochs=10,\n",
    "               steps_per_epoch=None, validation_steps=None):\n",
    "    features_train, target_train = train_data\n",
    "    features_test, target_test = test_data\n",
    "    model.fit(\n",
    "        features_train, target_train,\n",
    "        validation_data=(features_test, target_test),\n",
    "        batch_size=batch_size,\n",
    "        epochs=epochs,\n",
    "        steps_per_epoch=steps_per_epoch,\n",
    "        validation_steps=validation_steps,\n",
    "        verbose=2,\n",
    "        shuffle=True\n",
    "    )\n",
    "    return model"
   ]
  },
  {
   "cell_type": "code",
   "execution_count": 9,
   "id": "bfd50b26",
   "metadata": {
    "execution": {
     "iopub.execute_input": "2022-08-27T19:27:01.598812Z",
     "iopub.status.busy": "2022-08-27T19:27:01.598382Z",
     "iopub.status.idle": "2022-08-27T19:28:25.374206Z",
     "shell.execute_reply": "2022-08-27T19:28:25.373360Z"
    },
    "papermill": {
     "duration": 83.78682,
     "end_time": "2022-08-27T19:28:25.380486",
     "exception": false,
     "start_time": "2022-08-27T19:27:01.593666",
     "status": "completed"
    },
    "tags": []
   },
   "outputs": [
    {
     "name": "stderr",
     "output_type": "stream",
     "text": [
      "2022-08-27 19:27:01.802127: I tensorflow/core/common_runtime/process_util.cc:146] Creating new thread pool with default inter op setting: 2. Tune using inter_op_parallelism_threads for best performance.\n",
      "2022-08-27 19:27:02.484450: I tensorflow/compiler/mlir/mlir_graph_optimization_pass.cc:185] None of the MLIR Optimization Passes are enabled (registered 2)\n"
     ]
    },
    {
     "name": "stdout",
     "output_type": "stream",
     "text": [
      "Epoch 1/10\n",
      "1875/1875 - 5s - loss: 0.7460 - acc: 0.7480 - val_loss: 0.5417 - val_acc: 0.8099\n",
      "Epoch 2/10\n",
      "1875/1875 - 4s - loss: 0.4998 - acc: 0.8245 - val_loss: 0.4579 - val_acc: 0.8433\n",
      "Epoch 3/10\n",
      "1875/1875 - 4s - loss: 0.4527 - acc: 0.8400 - val_loss: 0.4362 - val_acc: 0.8477\n",
      "Epoch 4/10\n",
      "1875/1875 - 5s - loss: 0.4252 - acc: 0.8487 - val_loss: 0.4132 - val_acc: 0.8579\n",
      "Epoch 5/10\n",
      "1875/1875 - 4s - loss: 0.4054 - acc: 0.8565 - val_loss: 0.4055 - val_acc: 0.8558\n",
      "Epoch 6/10\n",
      "1875/1875 - 4s - loss: 0.3898 - acc: 0.8607 - val_loss: 0.3831 - val_acc: 0.8654\n",
      "Epoch 7/10\n",
      "1875/1875 - 4s - loss: 0.3772 - acc: 0.8645 - val_loss: 0.3884 - val_acc: 0.8625\n",
      "Epoch 8/10\n",
      "1875/1875 - 4s - loss: 0.3672 - acc: 0.8679 - val_loss: 0.3735 - val_acc: 0.8684\n",
      "Epoch 9/10\n",
      "1875/1875 - 4s - loss: 0.3575 - acc: 0.8730 - val_loss: 0.3614 - val_acc: 0.8702\n",
      "Epoch 10/10\n",
      "1875/1875 - 4s - loss: 0.3485 - acc: 0.8742 - val_loss: 0.3609 - val_acc: 0.8700\n",
      "313/313 - 0s - loss: 0.3609 - acc: 0.8700\n",
      "\n",
      "Model accuracy: 87.00%\n"
     ]
    }
   ],
   "source": [
    "if __name__ == '__main__':\n",
    "    train_data = load_train()\n",
    "    test_data = load_test()\n",
    "    model = create_model(train_data[0].shape[1:])\n",
    "    model = train_model(model, train_data, test_data)\n",
    "    loss, acc = model.evaluate(test_data[0], test_data[1], verbose=2)\n",
    "    print()\n",
    "    print('Model accuracy: {:5.2f}%'.format(100 * acc))"
   ]
  }
 ],
 "metadata": {
  "kernelspec": {
   "display_name": "Python 3",
   "language": "python",
   "name": "python3"
  },
  "language_info": {
   "codemirror_mode": {
    "name": "ipython",
    "version": 3
   },
   "file_extension": ".py",
   "mimetype": "text/x-python",
   "name": "python",
   "nbconvert_exporter": "python",
   "pygments_lexer": "ipython3",
   "version": "3.7.12"
  },
  "papermill": {
   "default_parameters": {},
   "duration": 110.226848,
   "end_time": "2022-08-27T19:28:28.634015",
   "environment_variables": {},
   "exception": null,
   "input_path": "__notebook__.ipynb",
   "output_path": "__notebook__.ipynb",
   "parameters": {},
   "start_time": "2022-08-27T19:26:38.407167",
   "version": "2.3.4"
  }
 },
 "nbformat": 4,
 "nbformat_minor": 5
}
