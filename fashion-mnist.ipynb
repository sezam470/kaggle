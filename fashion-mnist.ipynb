{
 "cells": [
  {
   "cell_type": "markdown",
   "id": "99c91f6b",
   "metadata": {
    "papermill": {
     "duration": 0.006118,
     "end_time": "2022-08-27T12:37:13.533446",
     "exception": false,
     "start_time": "2022-08-27T12:37:13.527328",
     "status": "completed"
    },
    "tags": []
   },
   "source": [
    "**Классификатор товаров**"
   ]
  },
  {
   "cell_type": "markdown",
   "id": "9797e621",
   "metadata": {
    "papermill": {
     "duration": 0.003236,
     "end_time": "2022-08-27T12:37:13.540523",
     "exception": false,
     "start_time": "2022-08-27T12:37:13.537287",
     "status": "completed"
    },
    "tags": []
   },
   "source": [
    "Для агрегатора магазинов одежды нужно сделать классификатор одежды на 10 классов."
   ]
  },
  {
   "cell_type": "code",
   "execution_count": 1,
   "id": "808ddef3",
   "metadata": {
    "execution": {
     "iopub.execute_input": "2022-08-27T12:37:13.549533Z",
     "iopub.status.busy": "2022-08-27T12:37:13.548727Z",
     "iopub.status.idle": "2022-08-27T12:37:20.090418Z",
     "shell.execute_reply": "2022-08-27T12:37:20.089217Z"
    },
    "papermill": {
     "duration": 6.549413,
     "end_time": "2022-08-27T12:37:20.093272",
     "exception": false,
     "start_time": "2022-08-27T12:37:13.543859",
     "status": "completed"
    },
    "tags": []
   },
   "outputs": [],
   "source": [
    "from tensorflow.keras.datasets import fashion_mnist\n",
    "from tensorflow.keras.models import Sequential\n",
    "from tensorflow.keras.layers import Dense\n",
    "import numpy as np\n",
    "import pandas as pd\n",
    "import warnings\n",
    "warnings.filterwarnings('ignore')"
   ]
  },
  {
   "cell_type": "code",
   "execution_count": 2,
   "id": "f54f1d30",
   "metadata": {
    "execution": {
     "iopub.execute_input": "2022-08-27T12:37:20.102241Z",
     "iopub.status.busy": "2022-08-27T12:37:20.101593Z",
     "iopub.status.idle": "2022-08-27T12:37:20.113597Z",
     "shell.execute_reply": "2022-08-27T12:37:20.112366Z"
    },
    "papermill": {
     "duration": 0.019036,
     "end_time": "2022-08-27T12:37:20.115926",
     "exception": false,
     "start_time": "2022-08-27T12:37:20.096890",
     "status": "completed"
    },
    "tags": []
   },
   "outputs": [
    {
     "name": "stdout",
     "output_type": "stream",
     "text": [
      "/kaggle/input/fashion-mnist-df/fashion-mnist_test.csv\n",
      "/kaggle/input/fashion-mnist-df/fashion-mnist_train.csv\n"
     ]
    }
   ],
   "source": [
    "import os\n",
    "for dirname, _, filenames in os.walk('/kaggle/input'):\n",
    "    for filename in filenames:\n",
    "        print(os.path.join(dirname, filename))"
   ]
  },
  {
   "cell_type": "code",
   "execution_count": 3,
   "id": "9ff214f9",
   "metadata": {
    "execution": {
     "iopub.execute_input": "2022-08-27T12:37:20.125355Z",
     "iopub.status.busy": "2022-08-27T12:37:20.124722Z",
     "iopub.status.idle": "2022-08-27T12:37:25.800108Z",
     "shell.execute_reply": "2022-08-27T12:37:25.798549Z"
    },
    "papermill": {
     "duration": 5.683414,
     "end_time": "2022-08-27T12:37:25.803412",
     "exception": false,
     "start_time": "2022-08-27T12:37:20.119998",
     "status": "completed"
    },
    "tags": []
   },
   "outputs": [
    {
     "name": "stdout",
     "output_type": "stream",
     "text": [
      "features_train.head: (60000, 784)\n",
      "\n",
      "target_train.head (60000,)\n"
     ]
    }
   ],
   "source": [
    "df_train = pd.read_csv(\"/kaggle/input/fashion-mnist-df/fashion-mnist_train.csv\")\n",
    "\n",
    "features_train = np.array(df_train.drop(columns=['label'], axis=1))\n",
    "target_train = np.array(df_train['label'])\n",
    "print('features_train.head:', features_train.shape)\n",
    "print()\n",
    "print('target_train.head', target_train.shape)"
   ]
  },
  {
   "cell_type": "code",
   "execution_count": 4,
   "id": "10802e91",
   "metadata": {
    "execution": {
     "iopub.execute_input": "2022-08-27T12:37:25.814092Z",
     "iopub.status.busy": "2022-08-27T12:37:25.813694Z",
     "iopub.status.idle": "2022-08-27T12:37:26.650077Z",
     "shell.execute_reply": "2022-08-27T12:37:26.648977Z"
    },
    "papermill": {
     "duration": 0.845013,
     "end_time": "2022-08-27T12:37:26.652472",
     "exception": false,
     "start_time": "2022-08-27T12:37:25.807459",
     "status": "completed"
    },
    "tags": []
   },
   "outputs": [
    {
     "name": "stdout",
     "output_type": "stream",
     "text": [
      "features_test.head: (10000, 784)\n",
      "\n",
      "target_test.head (10000,)\n"
     ]
    }
   ],
   "source": [
    "df_test = pd.read_csv(\"/kaggle/input/fashion-mnist-df/fashion-mnist_test.csv\")\n",
    "\n",
    "features_test = np.array(df_test.drop(columns=['label'], axis=1))\n",
    "target_test = np.array(df_test['label'])\n",
    "print('features_test.head:', features_test.shape)\n",
    "print()\n",
    "print('target_test.head', target_test.shape)"
   ]
  },
  {
   "cell_type": "code",
   "execution_count": 5,
   "id": "f18bcd81",
   "metadata": {
    "execution": {
     "iopub.execute_input": "2022-08-27T12:37:26.661718Z",
     "iopub.status.busy": "2022-08-27T12:37:26.661368Z",
     "iopub.status.idle": "2022-08-27T12:37:26.666258Z",
     "shell.execute_reply": "2022-08-27T12:37:26.665103Z"
    },
    "papermill": {
     "duration": 0.012084,
     "end_time": "2022-08-27T12:37:26.668546",
     "exception": false,
     "start_time": "2022-08-27T12:37:26.656462",
     "status": "completed"
    },
    "tags": []
   },
   "outputs": [],
   "source": [
    "def load_train():\n",
    "    features = features_train.reshape(features_train.shape[0], 28 * 28) / 255\n",
    "    return features, target_train"
   ]
  },
  {
   "cell_type": "code",
   "execution_count": 6,
   "id": "ef54fa1d",
   "metadata": {
    "execution": {
     "iopub.execute_input": "2022-08-27T12:37:26.677809Z",
     "iopub.status.busy": "2022-08-27T12:37:26.677442Z",
     "iopub.status.idle": "2022-08-27T12:37:26.682759Z",
     "shell.execute_reply": "2022-08-27T12:37:26.681624Z"
    },
    "papermill": {
     "duration": 0.01256,
     "end_time": "2022-08-27T12:37:26.685036",
     "exception": false,
     "start_time": "2022-08-27T12:37:26.672476",
     "status": "completed"
    },
    "tags": []
   },
   "outputs": [],
   "source": [
    "def load_test():\n",
    "    features = features_test.reshape(features_test.shape[0], 28 * 28) / 255\n",
    "    return features, target_test"
   ]
  },
  {
   "cell_type": "code",
   "execution_count": 7,
   "id": "d6c67eef",
   "metadata": {
    "execution": {
     "iopub.execute_input": "2022-08-27T12:37:26.693701Z",
     "iopub.status.busy": "2022-08-27T12:37:26.693365Z",
     "iopub.status.idle": "2022-08-27T12:37:26.699900Z",
     "shell.execute_reply": "2022-08-27T12:37:26.698719Z"
    },
    "papermill": {
     "duration": 0.013475,
     "end_time": "2022-08-27T12:37:26.702207",
     "exception": false,
     "start_time": "2022-08-27T12:37:26.688732",
     "status": "completed"
    },
    "tags": []
   },
   "outputs": [],
   "source": [
    "def create_model(input_shape):\n",
    "    model = Sequential()\n",
    "    model.add(Dense(units=100, input_shape=input_shape, activation='relu'))\n",
    "    model.add(Dense(units=100, input_shape=input_shape, activation='relu'))\n",
    "    model.add(Dense(units=10, input_shape=input_shape, activation='softmax'))\n",
    "    model.compile(loss='sparse_categorical_crossentropy', optimizer='sgd', metrics=['acc'])\n",
    "    return model"
   ]
  },
  {
   "cell_type": "code",
   "execution_count": 8,
   "id": "fc1fa25e",
   "metadata": {
    "execution": {
     "iopub.execute_input": "2022-08-27T12:37:26.711377Z",
     "iopub.status.busy": "2022-08-27T12:37:26.710663Z",
     "iopub.status.idle": "2022-08-27T12:37:26.717128Z",
     "shell.execute_reply": "2022-08-27T12:37:26.716133Z"
    },
    "papermill": {
     "duration": 0.013393,
     "end_time": "2022-08-27T12:37:26.719347",
     "exception": false,
     "start_time": "2022-08-27T12:37:26.705954",
     "status": "completed"
    },
    "tags": []
   },
   "outputs": [],
   "source": [
    "def train_model(model, train_data, test_data, batch_size=32, epochs=10,\n",
    "               steps_per_epoch=None, validation_steps=None):\n",
    "    features_train, target_train = train_data\n",
    "    features_test, target_test = test_data\n",
    "    model.fit(\n",
    "        features_train, target_train,\n",
    "        validation_data=(features_test, target_test),\n",
    "        batch_size=batch_size,\n",
    "        epochs=epochs,\n",
    "        steps_per_epoch=steps_per_epoch,\n",
    "        validation_steps=validation_steps,\n",
    "        verbose=2,\n",
    "        shuffle=True\n",
    "    )"
   ]
  },
  {
   "cell_type": "code",
   "execution_count": 9,
   "id": "68730cf2",
   "metadata": {
    "execution": {
     "iopub.execute_input": "2022-08-27T12:37:26.728023Z",
     "iopub.status.busy": "2022-08-27T12:37:26.727685Z",
     "iopub.status.idle": "2022-08-27T12:38:10.033093Z",
     "shell.execute_reply": "2022-08-27T12:38:10.031736Z"
    },
    "papermill": {
     "duration": 43.31276,
     "end_time": "2022-08-27T12:38:10.035737",
     "exception": false,
     "start_time": "2022-08-27T12:37:26.722977",
     "status": "completed"
    },
    "tags": []
   },
   "outputs": [
    {
     "name": "stderr",
     "output_type": "stream",
     "text": [
      "2022-08-27 12:37:26.927780: I tensorflow/core/common_runtime/process_util.cc:146] Creating new thread pool with default inter op setting: 2. Tune using inter_op_parallelism_threads for best performance.\n",
      "2022-08-27 12:37:27.608353: I tensorflow/compiler/mlir/mlir_graph_optimization_pass.cc:185] None of the MLIR Optimization Passes are enabled (registered 2)\n"
     ]
    },
    {
     "name": "stdout",
     "output_type": "stream",
     "text": [
      "Epoch 1/10\n",
      "1875/1875 - 5s - loss: 0.7486 - acc: 0.7512 - val_loss: 0.5264 - val_acc: 0.8162\n",
      "Epoch 2/10\n",
      "1875/1875 - 5s - loss: 0.4969 - acc: 0.8276 - val_loss: 0.4594 - val_acc: 0.8429\n",
      "Epoch 3/10\n",
      "1875/1875 - 4s - loss: 0.4507 - acc: 0.8424 - val_loss: 0.4451 - val_acc: 0.8447\n",
      "Epoch 4/10\n",
      "1875/1875 - 4s - loss: 0.4247 - acc: 0.8504 - val_loss: 0.4220 - val_acc: 0.8527\n",
      "Epoch 5/10\n",
      "1875/1875 - 4s - loss: 0.4055 - acc: 0.8584 - val_loss: 0.4059 - val_acc: 0.8592\n",
      "Epoch 6/10\n",
      "1875/1875 - 4s - loss: 0.3900 - acc: 0.8627 - val_loss: 0.3835 - val_acc: 0.8649\n",
      "Epoch 7/10\n",
      "1875/1875 - 4s - loss: 0.3768 - acc: 0.8673 - val_loss: 0.3813 - val_acc: 0.8669\n",
      "Epoch 8/10\n",
      "1875/1875 - 4s - loss: 0.3660 - acc: 0.8698 - val_loss: 0.3720 - val_acc: 0.8683\n",
      "Epoch 9/10\n",
      "1875/1875 - 4s - loss: 0.3574 - acc: 0.8734 - val_loss: 0.3596 - val_acc: 0.8728\n",
      "Epoch 10/10\n",
      "1875/1875 - 5s - loss: 0.3491 - acc: 0.8762 - val_loss: 0.3522 - val_acc: 0.8744\n"
     ]
    }
   ],
   "source": [
    "if __name__ == '__main__':\n",
    "    train_data = load_train()\n",
    "    test_data = load_test()\n",
    "    model = create_model(train_data[0].shape[1:])\n",
    "    model = train_model(model, train_data, test_data)"
   ]
  },
  {
   "cell_type": "code",
   "execution_count": null,
   "id": "eb5a8eb7",
   "metadata": {
    "papermill": {
     "duration": 0.007237,
     "end_time": "2022-08-27T12:38:10.048116",
     "exception": false,
     "start_time": "2022-08-27T12:38:10.040879",
     "status": "completed"
    },
    "tags": []
   },
   "outputs": [],
   "source": []
  }
 ],
 "metadata": {
  "kernelspec": {
   "display_name": "Python 3",
   "language": "python",
   "name": "python3"
  },
  "language_info": {
   "codemirror_mode": {
    "name": "ipython",
    "version": 3
   },
   "file_extension": ".py",
   "mimetype": "text/x-python",
   "name": "python",
   "nbconvert_exporter": "python",
   "pygments_lexer": "ipython3",
   "version": "3.7.12"
  },
  "papermill": {
   "default_parameters": {},
   "duration": 68.167965,
   "end_time": "2022-08-27T12:38:12.693465",
   "environment_variables": {},
   "exception": null,
   "input_path": "__notebook__.ipynb",
   "output_path": "__notebook__.ipynb",
   "parameters": {},
   "start_time": "2022-08-27T12:37:04.525500",
   "version": "2.3.4"
  }
 },
 "nbformat": 4,
 "nbformat_minor": 5
}
