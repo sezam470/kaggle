{
 "cells": [
  {
   "cell_type": "markdown",
   "id": "99c90d02",
   "metadata": {
    "papermill": {
     "duration": 0.005348,
     "end_time": "2022-08-27T12:40:08.126349",
     "exception": false,
     "start_time": "2022-08-27T12:40:08.121001",
     "status": "completed"
    },
    "tags": []
   },
   "source": [
    "**Классификатор товаров**"
   ]
  },
  {
   "cell_type": "markdown",
   "id": "0ab17930",
   "metadata": {
    "papermill": {
     "duration": 0.003515,
     "end_time": "2022-08-27T12:40:08.134038",
     "exception": false,
     "start_time": "2022-08-27T12:40:08.130523",
     "status": "completed"
    },
    "tags": []
   },
   "source": [
    "Для агрегатора магазинов одежды нужно сделать классификатор одежды на 10 классов."
   ]
  },
  {
   "cell_type": "code",
   "execution_count": 1,
   "id": "d1bfcfe2",
   "metadata": {
    "execution": {
     "iopub.execute_input": "2022-08-27T12:40:08.144064Z",
     "iopub.status.busy": "2022-08-27T12:40:08.143536Z",
     "iopub.status.idle": "2022-08-27T12:40:15.798157Z",
     "shell.execute_reply": "2022-08-27T12:40:15.796649Z"
    },
    "papermill": {
     "duration": 7.663721,
     "end_time": "2022-08-27T12:40:15.801528",
     "exception": false,
     "start_time": "2022-08-27T12:40:08.137807",
     "status": "completed"
    },
    "tags": []
   },
   "outputs": [],
   "source": [
    "from tensorflow.keras.datasets import fashion_mnist\n",
    "from tensorflow.keras.models import Sequential\n",
    "from tensorflow.keras.layers import Dense\n",
    "import numpy as np\n",
    "import pandas as pd"
   ]
  },
  {
   "cell_type": "code",
   "execution_count": 2,
   "id": "5271d87d",
   "metadata": {
    "execution": {
     "iopub.execute_input": "2022-08-27T12:40:15.811854Z",
     "iopub.status.busy": "2022-08-27T12:40:15.811123Z",
     "iopub.status.idle": "2022-08-27T12:40:15.824182Z",
     "shell.execute_reply": "2022-08-27T12:40:15.822929Z"
    },
    "papermill": {
     "duration": 0.022705,
     "end_time": "2022-08-27T12:40:15.828291",
     "exception": false,
     "start_time": "2022-08-27T12:40:15.805586",
     "status": "completed"
    },
    "tags": []
   },
   "outputs": [
    {
     "name": "stdout",
     "output_type": "stream",
     "text": [
      "/kaggle/input/fashion-mnist-df/fashion-mnist_test.csv\n",
      "/kaggle/input/fashion-mnist-df/fashion-mnist_train.csv\n"
     ]
    }
   ],
   "source": [
    "import os\n",
    "for dirname, _, filenames in os.walk('/kaggle/input'):\n",
    "    for filename in filenames:\n",
    "        print(os.path.join(dirname, filename))"
   ]
  },
  {
   "cell_type": "code",
   "execution_count": 3,
   "id": "64bbbe32",
   "metadata": {
    "execution": {
     "iopub.execute_input": "2022-08-27T12:40:15.838102Z",
     "iopub.status.busy": "2022-08-27T12:40:15.837644Z",
     "iopub.status.idle": "2022-08-27T12:40:21.914795Z",
     "shell.execute_reply": "2022-08-27T12:40:21.913452Z"
    },
    "papermill": {
     "duration": 6.086287,
     "end_time": "2022-08-27T12:40:21.918615",
     "exception": false,
     "start_time": "2022-08-27T12:40:15.832328",
     "status": "completed"
    },
    "tags": []
   },
   "outputs": [
    {
     "name": "stdout",
     "output_type": "stream",
     "text": [
      "features_train.head: (60000, 784)\n",
      "\n",
      "target_train.head (60000,)\n"
     ]
    }
   ],
   "source": [
    "df_train = pd.read_csv(\"/kaggle/input/fashion-mnist-df/fashion-mnist_train.csv\")\n",
    "\n",
    "features_train = np.array(df_train.drop(columns=['label'], axis=1))\n",
    "target_train = np.array(df_train['label'])\n",
    "print('features_train.head:', features_train.shape)\n",
    "print()\n",
    "print('target_train.head', target_train.shape)"
   ]
  },
  {
   "cell_type": "code",
   "execution_count": 4,
   "id": "9e065886",
   "metadata": {
    "execution": {
     "iopub.execute_input": "2022-08-27T12:40:21.929849Z",
     "iopub.status.busy": "2022-08-27T12:40:21.929321Z",
     "iopub.status.idle": "2022-08-27T12:40:22.806144Z",
     "shell.execute_reply": "2022-08-27T12:40:22.805016Z"
    },
    "papermill": {
     "duration": 0.887476,
     "end_time": "2022-08-27T12:40:22.810739",
     "exception": false,
     "start_time": "2022-08-27T12:40:21.923263",
     "status": "completed"
    },
    "tags": []
   },
   "outputs": [
    {
     "name": "stdout",
     "output_type": "stream",
     "text": [
      "features_test.head: (10000, 784)\n",
      "\n",
      "target_test.head (10000,)\n"
     ]
    }
   ],
   "source": [
    "df_test = pd.read_csv(\"/kaggle/input/fashion-mnist-df/fashion-mnist_test.csv\")\n",
    "\n",
    "features_test = np.array(df_test.drop(columns=['label'], axis=1))\n",
    "target_test = np.array(df_test['label'])\n",
    "print('features_test.head:', features_test.shape)\n",
    "print()\n",
    "print('target_test.head', target_test.shape)"
   ]
  },
  {
   "cell_type": "code",
   "execution_count": 5,
   "id": "89fd1886",
   "metadata": {
    "execution": {
     "iopub.execute_input": "2022-08-27T12:40:22.822216Z",
     "iopub.status.busy": "2022-08-27T12:40:22.821344Z",
     "iopub.status.idle": "2022-08-27T12:40:22.828416Z",
     "shell.execute_reply": "2022-08-27T12:40:22.826880Z"
    },
    "papermill": {
     "duration": 0.015558,
     "end_time": "2022-08-27T12:40:22.830906",
     "exception": false,
     "start_time": "2022-08-27T12:40:22.815348",
     "status": "completed"
    },
    "tags": []
   },
   "outputs": [],
   "source": [
    "def load_train():\n",
    "    features = features_train.reshape(features_train.shape[0], 28 * 28) / 255\n",
    "    return features, target_train"
   ]
  },
  {
   "cell_type": "code",
   "execution_count": 6,
   "id": "cf2ada18",
   "metadata": {
    "execution": {
     "iopub.execute_input": "2022-08-27T12:40:22.841428Z",
     "iopub.status.busy": "2022-08-27T12:40:22.840725Z",
     "iopub.status.idle": "2022-08-27T12:40:22.846507Z",
     "shell.execute_reply": "2022-08-27T12:40:22.845080Z"
    },
    "papermill": {
     "duration": 0.014399,
     "end_time": "2022-08-27T12:40:22.849429",
     "exception": false,
     "start_time": "2022-08-27T12:40:22.835030",
     "status": "completed"
    },
    "tags": []
   },
   "outputs": [],
   "source": [
    "def load_test():\n",
    "    features = features_test.reshape(features_test.shape[0], 28 * 28) / 255\n",
    "    return features, target_test"
   ]
  },
  {
   "cell_type": "code",
   "execution_count": 7,
   "id": "0630bad9",
   "metadata": {
    "execution": {
     "iopub.execute_input": "2022-08-27T12:40:22.859550Z",
     "iopub.status.busy": "2022-08-27T12:40:22.859121Z",
     "iopub.status.idle": "2022-08-27T12:40:22.865383Z",
     "shell.execute_reply": "2022-08-27T12:40:22.864422Z"
    },
    "papermill": {
     "duration": 0.014294,
     "end_time": "2022-08-27T12:40:22.867823",
     "exception": false,
     "start_time": "2022-08-27T12:40:22.853529",
     "status": "completed"
    },
    "tags": []
   },
   "outputs": [],
   "source": [
    "def create_model(input_shape):\n",
    "    model = Sequential()\n",
    "    model.add(Dense(units=100, input_shape=input_shape, activation='relu'))\n",
    "    model.add(Dense(units=100, input_shape=input_shape, activation='relu'))\n",
    "    model.add(Dense(units=10, input_shape=input_shape, activation='softmax'))\n",
    "    model.compile(loss='sparse_categorical_crossentropy', optimizer='sgd', metrics=['acc'])\n",
    "    return model"
   ]
  },
  {
   "cell_type": "code",
   "execution_count": 8,
   "id": "f52b3833",
   "metadata": {
    "execution": {
     "iopub.execute_input": "2022-08-27T12:40:22.877650Z",
     "iopub.status.busy": "2022-08-27T12:40:22.877195Z",
     "iopub.status.idle": "2022-08-27T12:40:22.885130Z",
     "shell.execute_reply": "2022-08-27T12:40:22.883799Z"
    },
    "papermill": {
     "duration": 0.015708,
     "end_time": "2022-08-27T12:40:22.887717",
     "exception": false,
     "start_time": "2022-08-27T12:40:22.872009",
     "status": "completed"
    },
    "tags": []
   },
   "outputs": [],
   "source": [
    "def train_model(model, train_data, test_data, batch_size=32, epochs=10,\n",
    "               steps_per_epoch=None, validation_steps=None):\n",
    "    features_train, target_train = train_data\n",
    "    features_test, target_test = test_data\n",
    "    model.fit(\n",
    "        features_train, target_train,\n",
    "        validation_data=(features_test, target_test),\n",
    "        batch_size=batch_size,\n",
    "        epochs=epochs,\n",
    "        steps_per_epoch=steps_per_epoch,\n",
    "        validation_steps=validation_steps,\n",
    "        verbose=2,\n",
    "        shuffle=True\n",
    "    )"
   ]
  },
  {
   "cell_type": "code",
   "execution_count": 9,
   "id": "0c16f68b",
   "metadata": {
    "execution": {
     "iopub.execute_input": "2022-08-27T12:40:22.897954Z",
     "iopub.status.busy": "2022-08-27T12:40:22.897165Z",
     "iopub.status.idle": "2022-08-27T12:41:46.246428Z",
     "shell.execute_reply": "2022-08-27T12:41:46.245005Z"
    },
    "papermill": {
     "duration": 83.358032,
     "end_time": "2022-08-27T12:41:46.249707",
     "exception": false,
     "start_time": "2022-08-27T12:40:22.891675",
     "status": "completed"
    },
    "tags": []
   },
   "outputs": [
    {
     "name": "stderr",
     "output_type": "stream",
     "text": [
      "2022-08-27 12:40:23.114447: I tensorflow/core/common_runtime/process_util.cc:146] Creating new thread pool with default inter op setting: 2. Tune using inter_op_parallelism_threads for best performance.\n",
      "2022-08-27 12:40:23.847596: I tensorflow/compiler/mlir/mlir_graph_optimization_pass.cc:185] None of the MLIR Optimization Passes are enabled (registered 2)\n"
     ]
    },
    {
     "name": "stdout",
     "output_type": "stream",
     "text": [
      "Epoch 1/10\n",
      "1875/1875 - 6s - loss: 0.7358 - acc: 0.7537 - val_loss: 0.5379 - val_acc: 0.8121\n",
      "Epoch 2/10\n",
      "1875/1875 - 5s - loss: 0.5034 - acc: 0.8222 - val_loss: 0.4655 - val_acc: 0.8441\n",
      "Epoch 3/10\n",
      "1875/1875 - 6s - loss: 0.4588 - acc: 0.8379 - val_loss: 0.4480 - val_acc: 0.8445\n",
      "Epoch 4/10\n",
      "1875/1875 - 6s - loss: 0.4320 - acc: 0.8473 - val_loss: 0.4261 - val_acc: 0.8515\n",
      "Epoch 5/10\n",
      "1875/1875 - 6s - loss: 0.4131 - acc: 0.8548 - val_loss: 0.4047 - val_acc: 0.8597\n",
      "Epoch 6/10\n",
      "1875/1875 - 5s - loss: 0.3966 - acc: 0.8599 - val_loss: 0.3896 - val_acc: 0.8608\n",
      "Epoch 7/10\n",
      "1875/1875 - 5s - loss: 0.3829 - acc: 0.8648 - val_loss: 0.4035 - val_acc: 0.8593\n",
      "Epoch 8/10\n",
      "1875/1875 - 5s - loss: 0.3721 - acc: 0.8679 - val_loss: 0.3762 - val_acc: 0.8672\n",
      "Epoch 9/10\n",
      "1875/1875 - 6s - loss: 0.3619 - acc: 0.8723 - val_loss: 0.3726 - val_acc: 0.8664\n",
      "Epoch 10/10\n",
      "1875/1875 - 5s - loss: 0.3533 - acc: 0.8748 - val_loss: 0.3627 - val_acc: 0.8712\n"
     ]
    }
   ],
   "source": [
    "if __name__ == '__main__':\n",
    "    train_data = load_train()\n",
    "    test_data = load_test()\n",
    "    model = create_model(train_data[0].shape[1:])\n",
    "    model = train_model(model, train_data, test_data)"
   ]
  },
  {
   "cell_type": "code",
   "execution_count": null,
   "id": "70f8d465",
   "metadata": {
    "papermill": {
     "duration": 0.005179,
     "end_time": "2022-08-27T12:41:46.261494",
     "exception": false,
     "start_time": "2022-08-27T12:41:46.256315",
     "status": "completed"
    },
    "tags": []
   },
   "outputs": [],
   "source": []
  }
 ],
 "metadata": {
  "kernelspec": {
   "display_name": "Python 3",
   "language": "python",
   "name": "python3"
  },
  "language_info": {
   "codemirror_mode": {
    "name": "ipython",
    "version": 3
   },
   "file_extension": ".py",
   "mimetype": "text/x-python",
   "name": "python",
   "nbconvert_exporter": "python",
   "pygments_lexer": "ipython3",
   "version": "3.7.12"
  },
  "papermill": {
   "default_parameters": {},
   "duration": 112.393896,
   "end_time": "2022-08-27T12:41:49.870664",
   "environment_variables": {},
   "exception": null,
   "input_path": "__notebook__.ipynb",
   "output_path": "__notebook__.ipynb",
   "parameters": {},
   "start_time": "2022-08-27T12:39:57.476768",
   "version": "2.3.4"
  }
 },
 "nbformat": 4,
 "nbformat_minor": 5
}
